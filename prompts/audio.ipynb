{
 "cells": [
  {
   "cell_type": "code",
   "execution_count": 1,
   "metadata": {},
   "outputs": [],
   "source": [
    "from dotenv import load_dotenv, find_dotenv\n",
    "\n",
    "_ = load_dotenv(find_dotenv(\"./env/.env\"))"
   ]
  },
  {
   "cell_type": "code",
   "execution_count": 6,
   "metadata": {},
   "outputs": [
    {
     "name": "stdout",
     "output_type": "stream",
     "text": [
      "requestId:  72687dc62eea4163a37711621ddbc8ba\n"
     ]
    }
   ],
   "source": [
    "from dashscope.audio.tts_v2 import *\n",
    "\n",
    "model = \"cosyvoice-v1\"\n",
    "voice = \"loongstella\"\n",
    "\n",
    "\n",
    "synthesizer = SpeechSynthesizer(model=model, voice=voice)\n",
    "\n",
    "audio = synthesizer.call(\"王老师是一位年轻的英文老师，正在课堂上帮学生们解释英文单词voice的含义\")\n",
    "print(\"requestId: \", synthesizer.get_last_request_id())\n",
    "with open(\"output.mp3\", \"wb\") as f:\n",
    "    f.write(audio)"
   ]
  }
 ],
 "metadata": {
  "kernelspec": {
   "display_name": "venv",
   "language": "python",
   "name": "python3"
  },
  "language_info": {
   "codemirror_mode": {
    "name": "ipython",
    "version": 3
   },
   "file_extension": ".py",
   "mimetype": "text/x-python",
   "name": "python",
   "nbconvert_exporter": "python",
   "pygments_lexer": "ipython3",
   "version": "3.10.10"
  }
 },
 "nbformat": 4,
 "nbformat_minor": 2
}
