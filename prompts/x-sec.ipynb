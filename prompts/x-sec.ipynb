{
 "cells": [
  {
   "cell_type": "code",
   "execution_count": 3,
   "metadata": {},
   "outputs": [],
   "source": [
    "# X-Sec Framework\n"
   ]
  },
  {
   "cell_type": "code",
   "execution_count": 4,
   "metadata": {},
   "outputs": [],
   "source": [
    "# init qwen model config\n",
    "from dotenv import load_dotenv, find_dotenv\n",
    "from langchain_community.chat_models import ChatTongyi\n",
    "\n",
    "_ = load_dotenv(find_dotenv(\"./env/.env\"))\n",
    "\n",
    "llm_model = \"qwen-max\"\n",
    "\n",
    "llm = ChatTongyi(temperature=0.8, model=llm_model)"
   ]
  },
  {
   "cell_type": "code",
   "execution_count": 5,
   "metadata": {},
   "outputs": [
    {
     "name": "stdout",
     "output_type": "stream",
     "text": [
      "- collection: Data from Local System (T1005)\n",
      "- command-and-control: Internal Proxy (T1090.001)\n",
      "- credential-access: LSASS Memory (T1003.001)\n",
      "- defense-evasion: Make and Impersonate Token (T1134.003)\n",
      "- discovery: Domain Account (T1087.002)\n",
      "- execution: Scheduled Task (T1053.005)\n",
      "- impact: Financial Theft (T1657)\n",
      "- initial-access: Exploit Public-Facing Application (T1190)\n",
      "- lateral-movement: Windows Remote Management (T1021.006)\n",
      "- persistence: Web Shell (T1505.003)\n",
      "- reconnaissance: Gather Victim Identity Information (T1589)\n",
      "- resource-development: Tool (T1588.002)\n"
     ]
    }
   ],
   "source": [
    "# prepare ttp datas\n",
    "#!python3.10 ./extract_groups.py\n",
    "#!pip install tabulate\n",
    "#!pip install pandas\n",
    "#!pip install jinja2\n",
    "\n",
    "import pandas as pd\n",
    "from tabulate import tabulate\n",
    "from mitreattack.stix20 import MitreAttackData\n",
    "\n",
    "# example group id = intrusion-set--fd66436e-4d33-450e-ac4c-f7810f1c85f4\n",
    "group_id = \"intrusion-set--fd66436e-4d33-450e-ac4c-f7810f1c85f4\"\n",
    "selected_group_alias = \"FIN13\"\n",
    "mitre_attack_data = MitreAttackData(\"./mitre-datas/enterprise-attack-15.1.json\")\n",
    "# Define techniques_df as an empty dataframe\n",
    "techniques_df = pd.DataFrame()\n",
    "# Get all techniques used by the group\n",
    "techniques = mitre_attack_data.get_techniques_used_by_group(group_id)\n",
    "# Check if there are any techniques for the group\n",
    "if not techniques:\n",
    "    raise ValueError(f\"No techniques found for group {group_id}\")\n",
    "else:\n",
    "    # Update techniques_df with the techniques\n",
    "    techniques_df = pd.DataFrame(techniques)\n",
    "# Create a copy of the DataFrame for generating the LLM prompt\n",
    "# Add a 'Technique Name' column to both DataFrames\n",
    "techniques_df[\"Technique Name\"] = techniques_df[\"object\"].apply(lambda x: x[\"name\"])\n",
    "# Add a 'ATT&CK ID' column to both DataFrames\n",
    "techniques_df[\"ATT&CK ID\"] = techniques_df[\"object\"].apply(\n",
    "    lambda x: mitre_attack_data.get_attack_id(x[\"id\"])\n",
    ")\n",
    "# Add a 'Phase Name' column to both DataFrames\n",
    "techniques_df[\"Phase Name\"] = techniques_df[\"object\"].apply(\n",
    "    lambda x: x[\"kill_chain_phases\"][0][\"phase_name\"]\n",
    ")\n",
    "# Drop duplicate techniques based on Phase Name, Technique Name and ATT&CK ID\n",
    "techniques_df = techniques_df.drop_duplicates(\n",
    "    [\"Phase Name\", \"Technique Name\", \"ATT&CK ID\"]\n",
    ")\n",
    "\n",
    "selected_techniques_df = (\n",
    "    techniques_df.groupby(\"Phase Name\", observed=False)[\n",
    "        [\"Phase Name\", \"Technique Name\", \"ATT&CK ID\"]\n",
    "    ]\n",
    "    .apply(lambda x: x.sample(n=1) if len(x) > 0 else None)\n",
    "    .reset_index(drop=True)\n",
    ")\n",
    "\n",
    "# print(\n",
    "#    tabulate(\n",
    "#        techniques_df[[\"Phase Name\", \"Technique Name\", \"ATT&CK ID\"]],\n",
    "#        headers=[\"Phase Name\", \"Technique Name\", \"ATT&CK ID\"],\n",
    "#        tablefmt=\"psql\",\n",
    "#    )\n",
    "# )\n",
    "\n",
    "# Create an empty list to hold the kill chain information\n",
    "kill_chain = []\n",
    "# Iterate over the rows in the DataFrame\n",
    "for index, row in selected_techniques_df.iterrows():\n",
    "    # Extract the phase and technique information\n",
    "    phase_name = row['Phase Name']\n",
    "    technique_name = row['Technique Name']\n",
    "    attack_id = row['ATT&CK ID']\n",
    "    # Add a string with this information to the kill chain list\n",
    "    kill_chain.append(f\"{phase_name}: {technique_name} ({attack_id})\")\n",
    "# Convert the kill chain list to a string with newline characters between each item\n",
    "kill_chain_string = \"\\n\".join([\"- \"+kc for kc in kill_chain])\n",
    "\n",
    "print(kill_chain_string)"
   ]
  },
  {
   "cell_type": "code",
   "execution_count": 6,
   "metadata": {},
   "outputs": [],
   "source": [
    "industry_list = [\n",
    "    \"Aerospace / Defense\",\n",
    "    \"Agriculture / Food Services\",\n",
    "    \"Automotive\",\n",
    "    \"Construction\",\n",
    "    \"Education\",\n",
    "    \"Energy / Utilities\",\n",
    "    \"Finance / Banking\",\n",
    "    \"Government / Public Sector\",\n",
    "    \"Healthcare\",\n",
    "    \"Hospitality / Tourism\",\n",
    "    \"Insurance\",\n",
    "    \"Legal Services\",\n",
    "    \"Manufacturing\",\n",
    "    \"Media / Entertainment\",\n",
    "    \"Non-profit\",\n",
    "    \"Real Estate\",\n",
    "    \"Retail / E-commerce\",\n",
    "    \"Technology / IT\",\n",
    "    \"Telecommunication\",\n",
    "    \"Transportation / Logistics\",\n",
    "]\n",
    "\n",
    "industry = \"Technology / IT\"\n",
    "\n",
    "company_list = [\n",
    "    \"Small (1-50 employees)\",\n",
    "    \"Medium (51-200 employees)\",\n",
    "    \"Large (201-1,000 employees)\",\n",
    "    \"Enterprise (1,001-10,000 employees)\",\n",
    "    \"Large Enterprise (10,000+ employees)\",\n",
    "]\n",
    "company_size = \"Large Enterprise (10,000+ employees)\"\n",
    "\n",
    "cve_2024_5535 = \"\"\"Issue summary: Calling the OpenSSL API function SSL_select_next_proto with an\n",
    "empty supported client protocols buffer may cause a crash or memory contents to\n",
    "be sent to the peer.\n",
    "Impact summary: A buffer overread can have a range of potential consequences\n",
    "such as unexpected application beahviour or a crash. In particular this issue\n",
    "could result in up to 255 bytes of arbitrary private data from memory being sent\n",
    "to the peer leading to a loss of confidentiality. However, only applications\n",
    "that directly call the SSL_select_next_proto function with a 0 length list of\n",
    "supported client protocols are affected by this issue. This would normally never\n",
    "be a valid scenario and is typically not under attacker control but may occur by\n",
    "accident in the case of a configuration or programming error in the calling\n",
    "application.\n",
    "The OpenSSL API function SSL_select_next_proto is typically used by TLS\n",
    "applications that support ALPN (Application Layer Protocol Negotiation) or NPN\n",
    "(Next Protocol Negotiation). NPN is older, was never standardised and\n",
    "is deprecated in favour of ALPN. We believe that ALPN is significantly more\n",
    "widely deployed than NPN. The SSL_select_next_proto function accepts a list of\n",
    "protocols from the server and a list of protocols from the client and returns\n",
    "the first protocol that appears in the server list that also appears in the\n",
    "client list. In the case of no overlap between the two lists it returns the\n",
    "first item in the client list. In either case it will signal whether an overlap\n",
    "between the two lists was found. In the case where SSL_select_next_proto is\n",
    "called with a zero length client list it fails to notice this condition and\n",
    "returns the memory immediately following the client list pointer (and reports\n",
    "that there was no overlap in the lists).\n",
    "This function is typically called from a server side application callback for\n",
    "ALPN or a client side application callback for NPN. In the case of ALPN the list\n",
    "of protocols supplied by the client is guaranteed by libssl to never be zero in\n",
    "length. The list of server protocols comes from the application and should never\n",
    "normally be expected to be of zero length. In this case if the\n",
    "SSL_select_next_proto function has been called as expected (with the list\n",
    "supplied by the client passed in the client/client_len parameters), then the\n",
    "application will not be vulnerable to this issue. If the application has\n",
    "accidentally been configured with a zero length server list, and has\n",
    "accidentally passed that zero length server list in the client/client_len\n",
    "parameters, and has additionally failed to correctly handle a \"no overlap\"\n",
    "response (which would normally result in a handshake failure in ALPN) then it\n",
    "will be vulnerable to this problem.\n",
    "In the case of NPN, the protocol permits the client to opportunistically select\n",
    "a protocol when there is no overlap. OpenSSL returns the first client protocol\n",
    "in the no overlap case in support of this. The list of client protocols comes\n",
    "from the application and should never normally be expected to be of zero length.\n",
    "However if the SSL_select_next_proto function is accidentally called with a\n",
    "client_len of 0 then an invalid memory pointer will be returned instead. If the\n",
    "application uses this output as the opportunistic protocol then the loss of\n",
    "confidentiality will occur.\n",
    "This issue has been assessed as Low severity because applications are most\n",
    "likely to be vulnerable if they are using NPN instead of ALPN - but NPN is not\n",
    "widely used. It also requires an application configuration or programming error.\n",
    "Finally, this issue would not typically be under attacker control making active\n",
    "exploitation unlikely.\n",
    "The FIPS modules in 3.3, 3.2, 3.1 and 3.0 are not affected by this issue.\n",
    "Due to the low severity of this issue we are not issuing new releases of\n",
    "OpenSSL at this time. The fix will be included in the next releases when they\n",
    "become available.\"\"\""
   ]
  },
  {
   "cell_type": "code",
   "execution_count": 7,
   "metadata": {},
   "outputs": [
    {
     "name": "stdout",
     "output_type": "stream",
     "text": [
      "['company_size', 'industry', 'kill_chain_string', 'selected_group_alias']\n"
     ]
    }
   ],
   "source": [
    "# sequential chain\n",
    "from langchain.chains import LLMChain\n",
    "from langchain.prompts import ChatPromptTemplate\n",
    "\n",
    "## prompt for generating attack vector from MITRE MATRIX TTP model\n",
    "with open(\"./ttp.md\", \"r\") as f:\n",
    "    ttp_template = f.read()\n",
    "\n",
    "ttp_prompt_template = ChatPromptTemplate.from_template(ttp_template)\n",
    "print(ttp_prompt_template.input_variables)"
   ]
  },
  {
   "cell_type": "code",
   "execution_count": 8,
   "metadata": {},
   "outputs": [
    {
     "name": "stdout",
     "output_type": "stream",
     "text": [
      "['cve_2024_5535', 'scenario']\n"
     ]
    }
   ],
   "source": [
    "# prompt for x-sec to analyze\n",
    "with open(\"./x-sec.md\", \"r\") as f:\n",
    "    xsec_template = f.read()\n",
    "\n",
    "xsec_prompt_template = ChatPromptTemplate.from_template(xsec_template)\n",
    "print(xsec_prompt_template.input_variables)"
   ]
  },
  {
   "cell_type": "code",
   "execution_count": 9,
   "metadata": {},
   "outputs": [
    {
     "name": "stderr",
     "output_type": "stream",
     "text": [
      "/var/folders/d4/jnz2593x3yl5s38pz25wxl400000gp/T/ipykernel_74458/2461749673.py:7: LangChainDeprecationWarning: The class `LLMChain` was deprecated in LangChain 0.1.17 and will be removed in 1.0. Use RunnableSequence, e.g., `prompt | llm` instead.\n",
      "  _ttp_chain = LLMChain(llm=llm, prompt=ttp_prompt_template, output_key=\"scenario\")\n"
     ]
    }
   ],
   "source": [
    "from langchain_core.output_parsers import StrOutputParser\n",
    "\n",
    "# sequencial chain\n",
    "# chain 1:\n",
    "#   input=['company_size', 'industry', 'kill_chain_string', 'selected_group_alias']\n",
    "#   output= ['scenario']\n",
    "_ttp_chain = LLMChain(llm=llm, prompt=ttp_prompt_template, output_key=\"scenario\")\n",
    "ttp_chain = (ttp_prompt_template\n",
    "    | llm\n",
    "    | StrOutputParser()\n",
    ")\n",
    "\n",
    "# chain 2:\n",
    "#   input= ['scenario']\n",
    "#   output= summary\n",
    "_xsec_chain = LLMChain(llm=llm, prompt=xsec_prompt_template, output_key=\"summary\")\n",
    "xsec_chain = xsec_prompt_template | llm | StrOutputParser()"
   ]
  },
  {
   "cell_type": "code",
   "execution_count": 11,
   "metadata": {},
   "outputs": [
    {
     "name": "stderr",
     "output_type": "stream",
     "text": [
      "/var/folders/d4/jnz2593x3yl5s38pz25wxl400000gp/T/ipykernel_74458/3567476930.py:16: LangChainDeprecationWarning: The method `Chain.__call__` was deprecated in langchain 0.1.0 and will be removed in 1.0. Use invoke instead.\n",
      "  response = _overall_chain(\n",
      "Error in StdOutCallbackHandler.on_chain_start callback: AttributeError(\"'NoneType' object has no attribute 'get'\")\n"
     ]
    },
    {
     "name": "stdout",
     "output_type": "stream",
     "text": [
      "\n",
      "> Finished chain.\n"
     ]
    },
    {
     "data": {
      "text/markdown": [
       "### Kill Chain of the Given Incident Scenario\n",
       "\n",
       "The kill chain outlined in the incident scenario follows the MITRE ATT&CK framework and includes the following phases with associated techniques:\n",
       "\n",
       "1. **Initial Access (T1190):** Exploitation of a public-facing application vulnerability.\n",
       "2. **Execution (T1053.005):** Scheduled Task established by the attacker.\n",
       "3. **Persistence (T1505.003):** Deployment of a Web Shell.\n",
       "4. **Privilege Escalation (Implicit throughout):** Use of techniques like Make and Impersonate Token (T1134.003).\n",
       "5. **Defense Evasion (T1134.003, T1090.001):** Token manipulation and use of internal proxy for C2.\n",
       "6. **Credential Access (T1003.001):** Extraction of credentials from LSASS memory.\n",
       "7. **Discovery (T1087.002):** Enumeration of domain accounts.\n",
       "8. **Lateral Movement (T1021.006):** Utilizing Windows Remote Management.\n",
       "9. **Collection (T1005):** Gathering sensitive data from local systems.\n",
       "10. **Command and Control (T1090.001):** Use of an internal proxy for maintaining C2.\n",
       "11. **Exfiltration (Implicit):** Not explicitly mentioned but implied with Collection.\n",
       "12. **Impact (T1657):** Financial theft.\n",
       "\n",
       "### Open Source Software & Vulnerabilities Related to the Scenario\n",
       "\n",
       "Given the techniques used by FIN13, relevant open-source software could include:\n",
       "\n",
       "- **Apache HTTP Server**: Often targeted for exploiting public-facing applications (T1190).\n",
       "- **WordPress/Drupal/Joomla**: CMS platforms prone to vulnerabilities exploitable for initial access.\n",
       "- **OpenSSL**: For secure communication, but vulnerabilities can facilitate exploitation.\n",
       "- **Apache Tomcat**: Application server potentially susceptible to attacks for initial access or command and control.\n",
       "\n",
       "Regarding **CVE-2024-5535**:\n",
       "\n",
       "- **Affected Status:** The scenario does not specifically mention the usage of OpenSSL functions like SSL_select_next_proto or the direct involvement of ALPN/NPN protocols. The incident focuses on a targeted attack through a public-facing application, privilege escalation, and data exfiltration rather than vulnerabilities in SSL/TLS negotiation. Therefore, it seems **unlikely** that CVE-2024-5535 directly affects this incident scenario unless the exploited public-facing application relies on a custom implementation of these protocols, which is not typical.\n",
       "\n",
       "### CVSS Score for CVE-2024-5535\n",
       "\n",
       "Based on the provided impact summary and considering the scope, the CVSS v3 base score calculation could be approximated as follows:\n",
       "\n",
       "- **Confidentiality Impact (C):** High, as up to 255 bytes of arbitrary private data could be disclosed.\n",
       "- **Integrity Impact (I):** None, since the issue does not alter data.\n",
       "- **Availability Impact (A):** None, as it does not cause service disruption.\n",
       "- **Attack Vector (AV):** Network (N), if an attacker could manipulate the situation to trigger the bug remotely.\n",
       "- **Attack Complexity (AC):** High (H), due to the specific conditions required (programming error + zero-length list).\n",
       "- **Privileges Required (PR):** None (N), assuming the attacker can influence the application’s behavior.\n",
       "- **User Interaction (UI):**: None (N), as the vulnerability can be triggered without user action.\n",
       "- **Scope (S):** Unchanged (U), since the vulnerability does not change the security context.\n",
       "\n",
       "**CVSS v3 Base Score Calculation:**\n",
       "\n",
       "```\n",
       "CVSS:3.1/AV:N/AC:H/PR:N/UI:N/S:U/C:H/I:N/A:N\n",
       "```\n",
       "\n",
       "Using a CVSS calculator, this results in a score around **6.5**, placing it in the Medium severity range. However, due to the low likelihood of exploitation under normal circumstances and the specific conditions needed, the overall risk might be perceived as lower in practical terms."
      ],
      "text/plain": [
       "<IPython.core.display.Markdown object>"
      ]
     },
     "metadata": {},
     "output_type": "display_data"
    }
   ],
   "source": [
    "# legacy sequentialchain invoke\n",
    "from langchain.chains.sequential import SequentialChain\n",
    "\n",
    "_overall_chain = SequentialChain(\n",
    "    chains=[_ttp_chain, _xsec_chain],\n",
    "    input_variables=[\n",
    "        \"company_size\",\n",
    "        \"industry\",\n",
    "        \"kill_chain_string\",\n",
    "        \"selected_group_alias\",\n",
    "        \"cve_2024_5535\",\n",
    "    ],\n",
    "    output_variables=[\"scenario\", \"summary\"],\n",
    "    verbose=True,\n",
    ")\n",
    "response = _overall_chain(\n",
    "    {\n",
    "        \"company_size\": company_size,\n",
    "        \"industry\": industry,\n",
    "        \"kill_chain_string\": kill_chain_string,\n",
    "        \"selected_group_alias\": selected_group_alias,\n",
    "        \"cve_2024_5535\": cve_2024_5535,\n",
    "    }\n",
    ")\n",
    "from IPython.display import display, Markdown\n",
    "\n",
    "display(Markdown(response[\"summary\"]))"
   ]
  },
  {
   "cell_type": "code",
   "execution_count": 14,
   "metadata": {},
   "outputs": [
    {
     "data": {
      "text/markdown": [
       "### Kill Chain of the Given Incident Scenario\n",
       "\n",
       "The kill chain for the incident scenario outlined follows the MITRE ATT&CK framework and includes the techniques utilized by the FIN13 threat actor group:\n",
       "\n",
       "1. **Initial Access (T1190):** Exploit Public-Facing Application\n",
       "2. **Execution (T1053.005):** Scheduled Task\n",
       "3. **Persistence (T1505.003):** Web Shell\n",
       "4. **Privilege Escalation (Implicit through techniques):** Make and Impersonate Token (T1134.003)\n",
       "5. **Defense Evasion (T1134.003):** Make and Impersonate Token\n",
       "6. **Credential Access (T1003.001):** LSASS Memory\n",
       "7. **Discovery (T1087.002):** Domain Account\n",
       "8. **Lateral Movement (T1021.006):** Windows Remote Management\n",
       "9. **Collection (T1005):** Data from Local System\n",
       "10. **Command and Control (C2) (T1090.001):** Internal Proxy\n",
       "11. **Impact (T1657):** Financial Theft\n",
       "\n",
       "### Open Source Software Related to the Incident Scenario and Vulnerabilities\n",
       "\n",
       "Given the scenario focuses on a targeted cyberattack, some open-source software that could be involved, based on the techniques used, include:\n",
       "\n",
       "1. **Apache HTTP Server**: A commonly used public-facing application that might have vulnerabilities exploitable for initial access (e.g., CVE-2021-41773, a path traversal vulnerability).\n",
       "2. **WordPress**: A popular CMS often integrated with Apache or other web servers, which could contain vulnerabilities for exploitation (e.g., CVE-2022-2444, a cross-site scripting vulnerability).\n",
       "3. **OpenSSL**: As indicated by your query about CVE-2024-5535, vulnerabilities in OpenSSL could affect secure communication and potentially be leveraged if the application relies on it.\n",
       "\n",
       "#### Assessment of CVE-2024-5535 in the Incident\n",
       "\n",
       "**Affected Status:** Based on the provided scenario, the direct exploitation of CVE-2024-5535 does not seem to align with the tactics, techniques, and procedures (TTPs) of the FIN13 threat actor group. The vulnerability involves a buffer overread in the SSL/TLS protocol handling within OpenSSL, primarily affecting applications that incorrectly use the SSL_select_next_proto function. Since FIN13's TTPs focus on exploiting public-facing applications, maintaining persistence through web shells, and stealing financial data, a vulnerability in SSL/TLS negotiation is less relevant to their primary objectives.\n",
       "\n",
       "**CVSS Score Analysis:**\n",
       "The Common Vulnerability Scoring System (CVSS) version 3 provides a standardized method for assessing the severity of vulnerabilities. For CVE-2024-5535:\n",
       "\n",
       "- **Base Metrics:**\n",
       "  - **Confidentiality Impact (C):** High (`C:H`) – Up to 255 bytes of arbitrary private data could be leaked.\n",
       "  - **Integrity Impact (I):** None (`I:N`) – No direct impact on data integrity.\n",
       "  - **Availability Impact (A):** None (`A:N`) – Does not cause a denial of service.\n",
       "  - **Attack Vector (AV):** Network (`AV:N`) – Attack can be performed over the network.\n",
       "  - **Attack Complexity (AC):** Low (`AC:L`) – The attack doesn't require a specific condition to be met.\n",
       "  - **Privileges Required (PR):** None (`PR:N`) – No privileges required for the attack.\n",
       "  - **User Interaction (UI):** None (`UI:N`) – Attack doesn't rely on user interaction.\n",
       "  - **Scope (S):** Unchanged (`S:U`) – The scope of the vulnerability is limited to the impacted component.\n",
       "\n",
       "Given these metrics, the Base Score calculation would be:\n",
       "`CVSS:3.1/AV:N/AC:L/PR:N/UI:N/S:U/C:H/I:N/A:N`\n",
       "\n",
       "However, considering the note that exploitation is unlikely due to application configurations and that NPN is deprecated in favor of ALPN, which is not vulnerable, the environmental and temporal metrics could adjust the overall score.\n",
       "\n",
       "Based on the provided impact summary and the fact that exploitation depends on several uncommon conditions, the CVSS score might not reach the highest levels. But without the exact CVSS v3 scores, an estimated severity rating based on the description leans towards **Medium** due to the potential for confidentiality loss. \n",
       "\n",
       "**Generated Score (Estimate):** 5 out of 10\n",
       "\n",
       "This estimation assumes a medium severity based on the potential for information disclosure but takes into account the mitigating factors like the low likelihood of occurrence due to specific application misconfigurations needed for exploitation. The actual CVSS score should be calculated with the complete formula and validated against official sources."
      ],
      "text/plain": [
       "<IPython.core.display.Markdown object>"
      ]
     },
     "metadata": {},
     "output_type": "display_data"
    }
   ],
   "source": [
    "#from langchain.callbacks.tracers import ConsoleCallbackHandler\n",
    "\n",
    "overall_chain = {\n",
    "    \"scenario\": ttp_chain,\n",
    "    \"cve_2024_5535\": lambda x: cve_2024_5535,\n",
    "} | xsec_chain\n",
    "response = overall_chain.invoke(\n",
    "    {\n",
    "        \"company_size\": company_size,\n",
    "        \"industry\": industry,\n",
    "        \"kill_chain_string\": kill_chain_string,\n",
    "        \"selected_group_alias\": selected_group_alias,\n",
    "        \"cve_2024_5535\": cve_2024_5535,\n",
    "    },\n",
    "    #config={\"callbacks\": [ConsoleCallbackHandler()]}, # configure for verbose logging\n",
    ")\n",
    "\n",
    "from IPython.display import display, Markdown\n",
    "display(Markdown(response))"
   ]
  },
  {
   "cell_type": "code",
   "execution_count": 28,
   "metadata": {},
   "outputs": [
    {
     "name": "stderr",
     "output_type": "stream",
     "text": [
      "Error in StdOutCallbackHandler.on_chain_start callback: AttributeError(\"'NoneType' object has no attribute 'get'\")\n"
     ]
    },
    {
     "name": "stdout",
     "output_type": "stream",
     "text": [
      "I can only answer questions about cyber security. \n",
      "\n",
      "Final Answer: Sorry, I can only answer questions about cyber security.\n",
      "\n",
      "> Finished chain.\n"
     ]
    },
    {
     "name": "stderr",
     "output_type": "stream",
     "text": [
      "Error in StdOutCallbackHandler.on_chain_start callback: AttributeError(\"'NoneType' object has no attribute 'get'\")\n"
     ]
    },
    {
     "name": "stdout",
     "output_type": "stream",
     "text": [
      "I need to first identify if CVE-2024-5535 is related to any of the TTPs mentioned in the incident response scenario.\n",
      "\n",
      "Action: google_search\n",
      "Action Input: \"CVE-2024-5535 details\"\n",
      "Jun 27, 2024 ... Issue summary: Calling the OpenSSL API function SSL_select_next_proto with an empty supported client protocols buffer may cause a crash or ... Jun 27, 2024 ... Description. Issue summary: Calling the OpenSSL API function SSL_select_next_proto with an empty supported client protocols buffer may cause a ... CVE-2024-3094 · Description · Statement · Additional information · External references · Affected Packages and Issued Red Hat Security Errata · Common Vulnerability ... Jul 12, 2024 ... 2 are susceptible to a vulnerability which when successfully exploited could lead to disclosure of sensitive information or Denial of Service ( ... Jun 27, 2024 ... Calling the OpenSSL API function SSL_select_next_proto with an empty supported client protocols buffer may cause a crash or memory contents to be sent to the ... May 8, 2024 ... Security Advisory Description On May 8, 2024, F5 announced the following security issues. This document is intended to serve as an overview ... Jul 30, 2024 ... ... 2024-4741) or cause a denial of service (CVE-2024-5535, CVE-2024-4603). OpenSSL is used by AIX as part of AIX's secure network communications. Jun 28, 2024 ... High severity (8.2) Information Exposure in openssl | CVE-2024-5535. i, CVE-2024-5535 Informational Bulletin: Impact of OpenSSL Vulnerabilities CVE-2024-5535 and CVE-2024-6119 · ➔ View multiple products. none. all. 2024-08-22 ... Jul 26, 2024 ... Is there a release fixing https://www.cve.org/CVERecord?id=CVE-2024-5535 on 3.0 stream? ... Yes, read the advisory you linked for details. All ...The CVE-2024-5535 is related to OpenSSL, causing a potential Denial of Service or information exposure when the SSL_select_next_proto function is called with an empty buffer. This seems to be a vulnerability in the cryptographic software rather than directly tied to any of the explicit TTPs listed in the scenario like exploitation of a public-facing application, use of scheduled tasks, or web shells. However, it could potentially facilitate Initial Access (T1190) if an exposed service utilizing OpenSSL is exploited or affect Defense Evasion (T1134.003) if used to disrupt security monitoring. \n",
      "\n",
      "Thought: Given that the scenario does not specifically mention OpenSSL or this CVE, its direct impact on the scenario is not explicit, but its relevance to the security posture is acknowledged.\n",
      "\n",
      "Final Answer: CVE-2024-5535, though not directly referenced in the provided incident response scenario, could indirectly affect the scenario by potentially facilitating initial access through exploitation of vulnerable OpenSSL implementations or aiding in defense evasion through causing a denial-of-service. Its relevance highlights the need for maintaining updated and patched cryptographic software to prevent such vulnerabilities from being exploited in conjunction with other TTPs.\n",
      "\n",
      "> Finished chain.\n"
     ]
    },
    {
     "data": {
      "text/plain": [
       "{'input': 'is CVE-2024-5535 affected by the given scenario?',\n",
       " 'scenario': \"```markdown\\n# Incident TTP Scenario\\n\\n## Overview\\nThis incident response testing scenario has been meticulously designed to challenge the company's cybersecurity incident response capabilities against a targeted attack by the FIN13 threat actor group. Leveraging the known tactics, techniques, and procedures (TTPs) of FIN13, this scenario will assess the readiness and effectiveness of the company's defenses and response mechanisms.\\n\\n## Company Profile\\n- **Industry:** Technology / IT\\n- **Size:** Large Enterprise (10,000+ employees)\\n\\n## Threat Actor Information\\n- **Threat Actor Group:** FIN13\\n- **Kill Chain Phase & Techniques:**\\n  - **Initial Access:** Exploit Public-Facing Application (T1190)\\n  - **Execution:** Scheduled Task (T1053.005)\\n  - **Persistence:** Web Shell (T1505.003)\\n  - **Privilege Escalation:** Make and Impersonate Token (T1134.003)\\n  - **Defense Evasion:** Make and Impersonate Token (T1134.003)\\n  - **Credential Access:** LSASS Memory (T1003.001)\\n  - **Discovery:** Domain Account (T1087.002)\\n  - **Lateral Movement:** Windows Remote Management (T1021.006)\\n  - **Command and Control:** Internal Proxy (T1090.001)\\n  - **Collection:** Data from Local System (T1005)\\n  - **Exfiltration:** (Implicit, not directly stated but inferred as part of the process)\\n  - **Impact:** Financial Theft (T1657)\\n  - **Reconnaissance:** Gather Victim Identity Information (T1589)\\n  - **Resource Development:** Tool (T1588.002)\\n\\n## Incident TTP Testing Scenario\\n\\n### Phase 1: Preparation\\n1. **Objective:** Establish a controlled environment that mirrors the company's infrastructure without risking production systems.\\n2. **Key Activities:**\\n   - Set up a simulated network with representative services and data.\\n   - Deploy honeypots and monitoring tools.\\n   - Inject dummy sensitive data for exfiltration testing.\\n\\n### Phase 2: Detection & Analysis\\n1. **Trigger Event:** Detection of unusual scheduled tasks execution or identification of a web shell within the simulated environment.\\n2. **Key Indicators:**\\n   - Unauthorised changes to scheduled tasks.\\n   - Anomalous network traffic to internal proxy.\\n   - Suspicious account activity related to domain accounts.\\n3. **Activities:**\\n   - Analyse system logs for evidence of TTPs.\\n   - Correlate events across the network for a complete attack narrative.\\n\\n### Phase 3: Containment\\n1. **Objective:** Isolate affected systems to prevent further spread and data theft.\\n2. **Steps:**\\n   - Disconnect systems showing signs of compromise.\\n   - Block suspicious IP addresses and C2 communication.\\n3. **Activities:** \\n   - Implement network segmentation to limit lateral movement.\\n   - Disable compromised scheduled tasks and remove web shells.\\n\\n### Phase 4: Eradication\\n1. **Objective:** Remove all traces of the attacker's presence.\\n2. **Steps:**\\n   - Conduct thorough malware scans and removal.\\n   - Restore affected systems from clean backups.\\n3. **Activities:** \\n   - Validate system integrity post-remediation.\\n   - Implement additional security patches where vulnerabilities were exploited.\\n\\n### Phase 5: Recovery\\n1. **Objective:** Bring systems back online securely and restore normal business operations.\\n2. **Steps:**\\n   - Gradually reintegrate cleaned systems.\\n   - Reinforce security measures based on lessons learned.\\n3. **Activities:** \\n   - Perform final checks for any residual malicious activity.\\n   - Educate users about phishing and other social engineering tactics.\\n\\n### Phase 6: Lessons Learned\\n1. **Objective:** Document findings and improve incident response processes.\\n2. **Steps:**\\n   - Conduct a post-mortem analysis.\\n   - Identify gaps in detection, response time, and mitigation.\\n3. **Activities:** \\n   - Update incident response plans and playbooks.\\n   - Enhance monitoring and detection capabilities.\\n\\n## Conclusion\\nThis comprehensive testing scenario provides a rigorous examination of the company's ability to detect, respond to, and recover from an attack resembling FIN13's tactics. It underscores the importance of proactive threat hunting, robust security controls, and continuous improvement of incident response strategies.\\n\\n### References\\n- MITRE ATT&CK Framework for detailed TTP descriptions.\\n\\n### Notes\\nEnsure all testing adheres to ethical guidelines, maintains confidentiality, and respects regulatory compliance requirements.\\n```\",\n",
       " 'output': 'CVE-2024-5535, though not directly referenced in the provided incident response scenario, could indirectly affect the scenario by potentially facilitating initial access through exploitation of vulnerable OpenSSL implementations or aiding in defense evasion through causing a denial-of-service. Its relevance highlights the need for maintaining updated and patched cryptographic software to prevent such vulnerabilities from being exploited in conjunction with other TTPs.'}"
      ]
     },
     "execution_count": 28,
     "metadata": {},
     "output_type": "execute_result"
    }
   ],
   "source": [
    "# Agent of Google Search Engine\n",
    "#!pip install --upgrade --quiet  langchain_google_community\n",
    "from langchain_core.tools import Tool\n",
    "from langchain_google_community import GoogleSearchAPIWrapper\n",
    "from langchain.agents import AgentExecutor, create_react_agent\n",
    "\n",
    "\n",
    "search = GoogleSearchAPIWrapper()\n",
    "\n",
    "google_search_tool = Tool(\n",
    "    name=\"google_search\",\n",
    "    description=\"Search Google for recent results.\",\n",
    "    func=search.run,\n",
    ")\n",
    "\n",
    "# google_search_tool.run(\"Obama's first name?\")\n",
    "with open(\"./x-sec-agent.md\", 'r') as f:\n",
    "    agent_prompt = f.read()\n",
    "\n",
    "agent_prompt_template = ChatPromptTemplate.from_template(agent_prompt)\n",
    "\n",
    "# Construct the ReAct agent\n",
    "agent = create_react_agent(llm, tools=[google_search_tool], prompt=agent_prompt_template)\n",
    "\n",
    "# Prepare scenario info\n",
    "scenario_prompt = ttp_prompt_template.format_messages(\n",
    "    company_size = company_size,\n",
    "    industry=industry,\n",
    "    kill_chain_string=kill_chain_string,\n",
    "    selected_group_alias=selected_group_alias,\n",
    ")\n",
    "scenario_response = llm.invoke(scenario_prompt)\n",
    "\n",
    "# Create an agent executor by passing in the agent and tools\n",
    "agent_executor = AgentExecutor(agent=agent, tools=[google_search_tool], verbose=True)\n",
    "\n",
    "agent_executor.invoke(\n",
    "    {\n",
    "        \"input\": \"what is your favourite food?\",\n",
    "        \"scenario\": scenario_response.content,\n",
    "    },\n",
    ")\n",
    "\n",
    "agent_executor.invoke(\n",
    "    {\n",
    "        \"input\": \"is CVE-2024-5535 affected by the given scenario?\",\n",
    "        \"scenario\": scenario_response.content,\n",
    "    },\n",
    ")"
   ]
  },
  {
   "cell_type": "code",
   "execution_count": null,
   "metadata": {},
   "outputs": [],
   "source": [
    "\n"
   ]
  },
  {
   "cell_type": "code",
   "execution_count": null,
   "metadata": {},
   "outputs": [],
   "source": []
  }
 ],
 "metadata": {
  "kernelspec": {
   "display_name": "venv",
   "language": "python",
   "name": "python3"
  },
  "language_info": {
   "codemirror_mode": {
    "name": "ipython",
    "version": 3
   },
   "file_extension": ".py",
   "mimetype": "text/x-python",
   "name": "python",
   "nbconvert_exporter": "python",
   "pygments_lexer": "ipython3",
   "version": "3.10.10"
  }
 },
 "nbformat": 4,
 "nbformat_minor": 2
}
