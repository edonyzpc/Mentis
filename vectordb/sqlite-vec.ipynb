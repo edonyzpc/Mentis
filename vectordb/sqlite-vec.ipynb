{
 "cells": [
  {
   "cell_type": "code",
   "execution_count": 20,
   "metadata": {},
   "outputs": [
    {
     "name": "stdout",
     "output_type": "stream",
     "text": [
      "Requirement already satisfied: sqlite-vec in /Users/edony/code/Mentis/venv/lib/python3.10/site-packages (0.1.6)\n",
      "\n",
      "\u001b[1m[\u001b[0m\u001b[34;49mnotice\u001b[0m\u001b[1;39;49m]\u001b[0m\u001b[39;49m A new release of pip is available: \u001b[0m\u001b[31;49m24.2\u001b[0m\u001b[39;49m -> \u001b[0m\u001b[32;49m24.3.1\u001b[0m\n",
      "\u001b[1m[\u001b[0m\u001b[34;49mnotice\u001b[0m\u001b[1;39;49m]\u001b[0m\u001b[39;49m To update, run: \u001b[0m\u001b[32;49mpip install --upgrade pip\u001b[0m\n",
      "Note: you may need to restart the kernel to use updated packages.\n"
     ]
    }
   ],
   "source": [
    "%pip install sqlite-vec"
   ]
  },
  {
   "cell_type": "code",
   "execution_count": 12,
   "metadata": {},
   "outputs": [
    {
     "name": "stdout",
     "output_type": "stream",
     "text": [
      "vec_version=v0.1.6\n"
     ]
    }
   ],
   "source": [
    "import sqlite3\n",
    "import sqlite_vec\n",
    "\n",
    "db = sqlite3.connect(\"memory-test-vector.db\")\n",
    "db.enable_load_extension(True)\n",
    "sqlite_vec.load(db)\n",
    "db.enable_load_extension(False)\n",
    "\n",
    "(vec_version,) = db.execute(\"select vec_version()\").fetchone()\n",
    "print(f\"vec_version={vec_version}\")"
   ]
  },
  {
   "cell_type": "code",
   "execution_count": 13,
   "metadata": {},
   "outputs": [
    {
     "name": "stdout",
     "output_type": "stream",
     "text": [
      "4\n"
     ]
    }
   ],
   "source": [
    "from sqlite_vec import serialize_float32\n",
    "\n",
    "embedding = [0.1, 0.2, 0.3, 0.4]\n",
    "result = db.execute(\"select vec_length(?)\", [serialize_float32(embedding)])\n",
    "\n",
    "print(result.fetchone()[0])  # 4"
   ]
  },
  {
   "cell_type": "code",
   "execution_count": 14,
   "metadata": {},
   "outputs": [
    {
     "name": "stdout",
     "output_type": "stream",
     "text": [
      "sqlite_version=3.41.1, vec_version=v0.1.6\n"
     ]
    },
    {
     "ename": "OperationalError",
     "evalue": "table vec_items already exists",
     "output_type": "error",
     "traceback": [
      "\u001b[0;31m---------------------------------------------------------------------------\u001b[0m",
      "\u001b[0;31mOperationalError\u001b[0m                          Traceback (most recent call last)",
      "Cell \u001b[0;32mIn[14], line 29\u001b[0m\n\u001b[1;32m     20\u001b[0m items \u001b[38;5;241m=\u001b[39m [\n\u001b[1;32m     21\u001b[0m     (\u001b[38;5;241m1\u001b[39m, [\u001b[38;5;241m0.1\u001b[39m, \u001b[38;5;241m0.1\u001b[39m, \u001b[38;5;241m0.1\u001b[39m, \u001b[38;5;241m0.1\u001b[39m]),\n\u001b[1;32m     22\u001b[0m     (\u001b[38;5;241m2\u001b[39m, [\u001b[38;5;241m0.2\u001b[39m, \u001b[38;5;241m0.2\u001b[39m, \u001b[38;5;241m0.2\u001b[39m, \u001b[38;5;241m0.2\u001b[39m]),\n\u001b[0;32m   (...)\u001b[0m\n\u001b[1;32m     25\u001b[0m     (\u001b[38;5;241m5\u001b[39m, [\u001b[38;5;241m0.5\u001b[39m, \u001b[38;5;241m0.5\u001b[39m, \u001b[38;5;241m0.5\u001b[39m, \u001b[38;5;241m0.5\u001b[39m]),\n\u001b[1;32m     26\u001b[0m ]\n\u001b[1;32m     27\u001b[0m query \u001b[38;5;241m=\u001b[39m [\u001b[38;5;241m0.3\u001b[39m, \u001b[38;5;241m0.3\u001b[39m, \u001b[38;5;241m0.3\u001b[39m, \u001b[38;5;241m0.3\u001b[39m]\n\u001b[0;32m---> 29\u001b[0m \u001b[43mdb\u001b[49m\u001b[38;5;241;43m.\u001b[39;49m\u001b[43mexecute\u001b[49m\u001b[43m(\u001b[49m\u001b[38;5;124;43m\"\u001b[39;49m\u001b[38;5;124;43mCREATE VIRTUAL TABLE vec_items USING vec0(embedding float[4])\u001b[39;49m\u001b[38;5;124;43m\"\u001b[39;49m\u001b[43m)\u001b[49m\n\u001b[1;32m     31\u001b[0m \u001b[38;5;28;01mwith\u001b[39;00m db:\n\u001b[1;32m     32\u001b[0m     \u001b[38;5;28;01mfor\u001b[39;00m item \u001b[38;5;129;01min\u001b[39;00m items:\n",
      "\u001b[0;31mOperationalError\u001b[0m: table vec_items already exists"
     ]
    }
   ],
   "source": [
    "from typing import List\n",
    "import struct\n",
    "\n",
    "\n",
    "def serialize_f32(vector: List[float]) -> bytes:\n",
    "    \"\"\"serializes a list of floats into a compact \"raw bytes\" format\"\"\"\n",
    "    return struct.pack(\"%sf\" % len(vector), *vector)\n",
    "\n",
    "# memory sqlite db\n",
    "#db = sqlite3.connect(\":memory:\")\n",
    "#db.enable_load_extension(True)\n",
    "#sqlite_vec.load(db)\n",
    "#db.enable_load_extension(False)\n",
    "\n",
    "sqlite_version, vec_version = db.execute(\n",
    "    \"select sqlite_version(), vec_version()\"\n",
    ").fetchone()\n",
    "print(f\"sqlite_version={sqlite_version}, vec_version={vec_version}\")\n",
    "\n",
    "items = [\n",
    "    (1, [0.1, 0.1, 0.1, 0.1]),\n",
    "    (2, [0.2, 0.2, 0.2, 0.2]),\n",
    "    (3, [0.3, 0.3, 0.3, 0.3]),\n",
    "    (4, [0.4, 0.4, 0.4, 0.4]),\n",
    "    (5, [0.5, 0.5, 0.5, 0.5]),\n",
    "]\n",
    "query = [0.3, 0.3, 0.3, 0.3]\n",
    "\n",
    "db.execute(\"CREATE VIRTUAL TABLE vec_items USING vec0(embedding float[4])\")\n",
    "\n",
    "with db:\n",
    "    for item in items:\n",
    "        db.execute(\n",
    "            \"INSERT INTO vec_items(rowid, embedding) VALUES (?, ?)\",\n",
    "            [item[0], serialize_f32(item[1])],\n",
    "        )\n",
    "\n",
    "rows = db.execute(\n",
    "    \"\"\"\n",
    "      SELECT\n",
    "        rowid,\n",
    "        distance\n",
    "      FROM vec_items\n",
    "      WHERE embedding MATCH ?\n",
    "      ORDER BY distance\n",
    "      LIMIT 3\n",
    "    \"\"\",\n",
    "    [serialize_f32(query)],\n",
    ").fetchall()\n",
    "\n",
    "print(rows)"
   ]
  },
  {
   "cell_type": "code",
   "execution_count": 4,
   "metadata": {},
   "outputs": [
    {
     "name": "stdout",
     "output_type": "stream",
     "text": [
      "'ok'\n",
      "[0.022378576171554372, -0.027432455162420308, -0.00355793080956962]\n"
     ]
    }
   ],
   "source": [
    "from dotenv import load_dotenv, find_dotenv\n",
    "\n",
    "_ = load_dotenv(find_dotenv(\"./env/.env\"))\n",
    "\n",
    "import dashscope\n",
    "from http import HTTPStatus\n",
    "from pprint import pprint\n",
    "\n",
    "with open(\"来自 Google 内部的另外一种声音：AI 没有护城河.md\", 'r') as f:\n",
    "    text = f.read()\n",
    "\n",
    "resp = dashscope.TextEmbedding.call(\n",
    "    model=dashscope.TextEmbedding.Models.text_embedding_v2,\n",
    "    input=\"We are lucky to live in an age in which we are still making discoveries.\",\n",
    "    dimension=1536,\n",
    ")\n",
    "pprint(\"ok\") if resp.status_code == HTTPStatus.OK else print(resp)\n",
    "pprint(resp[\"output\"][\"embeddings\"][0][\"embedding\"][:3])"
   ]
  },
  {
   "cell_type": "code",
   "execution_count": 1,
   "metadata": {},
   "outputs": [
    {
     "name": "stdout",
     "output_type": "stream",
     "text": [
      "Requirement already satisfied: tiktoken in /Users/edony/code/Mentis/venv/lib/python3.10/site-packages (0.7.0)\n",
      "Requirement already satisfied: regex>=2022.1.18 in /Users/edony/code/Mentis/venv/lib/python3.10/site-packages (from tiktoken) (2024.7.24)\n",
      "Requirement already satisfied: requests>=2.26.0 in /Users/edony/code/Mentis/venv/lib/python3.10/site-packages (from tiktoken) (2.32.3)\n",
      "Requirement already satisfied: charset-normalizer<4,>=2 in /Users/edony/code/Mentis/venv/lib/python3.10/site-packages (from requests>=2.26.0->tiktoken) (3.3.2)\n",
      "Requirement already satisfied: idna<4,>=2.5 in /Users/edony/code/Mentis/venv/lib/python3.10/site-packages (from requests>=2.26.0->tiktoken) (3.8)\n",
      "Requirement already satisfied: urllib3<3,>=1.21.1 in /Users/edony/code/Mentis/venv/lib/python3.10/site-packages (from requests>=2.26.0->tiktoken) (2.2.2)\n",
      "Requirement already satisfied: certifi>=2017.4.17 in /Users/edony/code/Mentis/venv/lib/python3.10/site-packages (from requests>=2.26.0->tiktoken) (2024.7.4)\n",
      "\n",
      "\u001b[1m[\u001b[0m\u001b[34;49mnotice\u001b[0m\u001b[1;39;49m]\u001b[0m\u001b[39;49m A new release of pip is available: \u001b[0m\u001b[31;49m24.2\u001b[0m\u001b[39;49m -> \u001b[0m\u001b[32;49m24.3.1\u001b[0m\n",
      "\u001b[1m[\u001b[0m\u001b[34;49mnotice\u001b[0m\u001b[1;39;49m]\u001b[0m\u001b[39;49m To update, run: \u001b[0m\u001b[32;49mpip install --upgrade pip\u001b[0m\n",
      "Note: you may need to restart the kernel to use updated packages.\n"
     ]
    }
   ],
   "source": [
    "%pip install tiktoken"
   ]
  },
  {
   "cell_type": "code",
   "execution_count": 48,
   "metadata": {},
   "outputs": [
    {
     "name": "stdout",
     "output_type": "stream",
     "text": [
      "18182\n",
      "5457\n",
      "chunk items length:  3\n",
      "length:  6061\n",
      "length:  6061\n",
      "length:  6060\n",
      "1536\n"
     ]
    }
   ],
   "source": [
    "from itertools import islice\n",
    "import tiktoken\n",
    "import numpy as np\n",
    "\n",
    "def batched(iterable, n):\n",
    "    \"\"\"将数据分批处理成每批长度为 n 的元组。最后一批的长度可能较短。\"\"\"\n",
    "    # batched('ABCDEFG', 3) --> ABC DEF G\n",
    "    if n < 1:\n",
    "        raise ValueError(\"n must be at least one\")\n",
    "    it = iter(iterable)\n",
    "    while batch := islice(it, n):\n",
    "        yield batch\n",
    "\n",
    "\n",
    "def chunked_tokens(text, encoding_name, chunk_length):\n",
    "    encoding = tiktoken.get_encoding(encoding_name)\n",
    "    tokens = encoding.encode(text)\n",
    "    chunk_items_len = len(tokens) // chunk_length + 1\n",
    "    print(\"chunk items length: \", chunk_items_len)\n",
    "    text_len = len(text) // chunk_items_len + 1\n",
    "    chunks_iterator = [text[i : i + text_len] for i in range(0, len(text), text_len)]\n",
    "    yield from chunks_iterator\n",
    "\n",
    "\n",
    "def len_safe_get_embedding(\n",
    "    text,\n",
    "    model=\"text-embedding-v2\",\n",
    "    max_tokens=2048,\n",
    "    encoding_name=\"cl100k_base\",\n",
    "):\n",
    "    chunk_embeddings = []\n",
    "    chunk_lens = []\n",
    "    for chunk in chunked_tokens(\n",
    "        text, encoding_name=encoding_name, chunk_length=max_tokens\n",
    "    ):\n",
    "        print(\"length: \", len(chunk))\n",
    "        chunk_embeddings.append(get_embedding(chunk, model=model))\n",
    "        chunk_lens.append(len(chunk))\n",
    "\n",
    "    chunk_embeddings = np.average(chunk_embeddings, axis=0, weights=chunk_lens)\n",
    "    return chunk_embeddings\n",
    "\n",
    "def get_embedding(text, model):\n",
    "    resp = dashscope.TextEmbedding.call(\n",
    "        model=model,\n",
    "        input=text,\n",
    "        dimension=1024,\n",
    "    )\n",
    "    return resp[\"output\"][\"embeddings\"][0][\"embedding\"]\n",
    "\n",
    "\n",
    "print(len(text))\n",
    "tokens = tiktoken.get_encoding(\"cl100k_base\").encode(text)\n",
    "print(len(tokens))\n",
    "chunked_embeddings = len_safe_get_embedding(text)\n",
    "print(len(chunked_embeddings))"
   ]
  },
  {
   "cell_type": "code",
   "execution_count": 25,
   "metadata": {},
   "outputs": [
    {
     "name": "stdout",
     "output_type": "stream",
     "text": [
      "18182\n",
      "[-0.07153698801994324, -0.04376567527651787, -0.030815014615654945, -0.006778706330806017, -0.06811530888080597]\n",
      "1\n"
     ]
    }
   ],
   "source": [
    "print(len(text))\n",
    "resp_v3 = dashscope.TextEmbedding.call(\n",
    "    model=dashscope.TextEmbedding.Models.text_embedding_v3,\n",
    "    input=text,\n",
    "    dimension=1024,\n",
    ")\n",
    "print(resp_v3[\"output\"][\"embeddings\"][0]['embedding'][:5])\n",
    "embeddings = resp_v3[\"output\"][\"embeddings\"]\n",
    "print(len(embeddings))\n",
    "\n",
    "# resp_batched = dashscope.BatchTextEmbedding.call(\n",
    "#    model=dashscope.BatchTextEmbedding.Models.text_embedding_async_v2,\n",
    "#    url=\"https://help-static-aliyun-doc.aliyuncs.com/file-manage-files/zh-CN/20241016/nigwvr/text_embedding_file.txt\",\n",
    "#    text_type=\"document\"\n",
    "# )\n",
    "# pprint(resp_batched)"
   ]
  },
  {
   "cell_type": "code",
   "execution_count": 26,
   "metadata": {},
   "outputs": [
    {
     "name": "stdout",
     "output_type": "stream",
     "text": [
      "[-0.07153698801994324, -0.04376567527651787, -0.030815014615654945, -0.006778706330806017, -0.06811530888080597]\n"
     ]
    }
   ],
   "source": [
    "print(embeddings[0][\"embedding\"][:5])\n"
   ]
  },
  {
   "cell_type": "code",
   "execution_count": 18,
   "metadata": {},
   "outputs": [
    {
     "data": {
      "text/plain": [
       "<sqlite3.Cursor at 0x10e9603c0>"
      ]
     },
     "execution_count": 18,
     "metadata": {},
     "output_type": "execute_result"
    }
   ],
   "source": [
    "db.execute(\n",
    "    \"\"\"CREATE VIRTUAL TABLE if NOT EXISTS vec_document_items USING vec0(\n",
    "    id INTEGER PRIMARY KEY,\n",
    "    document_name TEXT,\n",
    "    embedding float[1024]\n",
    ")\"\"\"\n",
    ")\n",
    "\n",
    "id = 1\n",
    "name = \"./vectordb/来自 Google 内部的另外一种声音：AI 没有护城河.md\"\n",
    "vector = embeddings[0][\"embedding\"]\n",
    "\n",
    "db.execute(\n",
    "    \"INSERT INTO vec_document_items(id, document_name, embedding) VALUES (?, ?, ?)\",\n",
    "    [id, name, serialize_f32(vector)],\n",
    ")\n",
    "db.commit()"
   ]
  },
  {
   "cell_type": "code",
   "execution_count": 45,
   "metadata": {},
   "outputs": [],
   "source": [
    "db.execute(\n",
    "    \"\"\"CREATE VIRTUAL TABLE if NOT EXISTS vec_chunked_document_items USING vec0(\n",
    "    id INTEGER PRIMARY KEY,\n",
    "    document_name TEXT,\n",
    "    embedding float[1536]\n",
    ")\"\"\"\n",
    ")\n",
    "with db:\n",
    "    for id, embedding in enumerate(chunked_embeddings):\n",
    "        db.execute(\n",
    "            \"INSERT INTO vec_chunked_document_items(id, document_name, embedding) VALUES (?, ?, ?)\",\n",
    "            [id, name, serialize_f32(embedding)],\n",
    "        )"
   ]
  },
  {
   "cell_type": "code",
   "execution_count": 46,
   "metadata": {},
   "outputs": [
    {
     "ename": "OperationalError",
     "evalue": "UNIQUE constraint failed on vec_chunked_document_items primary key",
     "output_type": "error",
     "traceback": [
      "\u001b[0;31m---------------------------------------------------------------------------\u001b[0m",
      "\u001b[0;31mOperationalError\u001b[0m                          Traceback (most recent call last)",
      "Cell \u001b[0;32mIn[46], line 4\u001b[0m\n\u001b[1;32m      2\u001b[0m \u001b[38;5;28;01mwith\u001b[39;00m db:\n\u001b[1;32m      3\u001b[0m     \u001b[38;5;28;01mfor\u001b[39;00m \u001b[38;5;28mid\u001b[39m, embedding \u001b[38;5;129;01min\u001b[39;00m \u001b[38;5;28menumerate\u001b[39m(chunked_embeddings):\n\u001b[0;32m----> 4\u001b[0m         \u001b[43mdb\u001b[49m\u001b[38;5;241;43m.\u001b[39;49m\u001b[43mexecute\u001b[49m\u001b[43m(\u001b[49m\n\u001b[1;32m      5\u001b[0m \u001b[43m            \u001b[49m\u001b[38;5;124;43m\"\u001b[39;49m\u001b[38;5;124;43mINSERT INTO vec_chunked_document_items(id, document_name, embedding) VALUES (?, ?, ?)\u001b[39;49m\u001b[38;5;124;43m\"\u001b[39;49m\u001b[43m,\u001b[49m\n\u001b[1;32m      6\u001b[0m \u001b[43m            \u001b[49m\u001b[43m[\u001b[49m\u001b[38;5;28;43mid\u001b[39;49m\u001b[43m,\u001b[49m\u001b[43m \u001b[49m\u001b[43mname\u001b[49m\u001b[43m,\u001b[49m\u001b[43m \u001b[49m\u001b[43mserialize_f32\u001b[49m\u001b[43m(\u001b[49m\u001b[43membedding\u001b[49m\u001b[43m)\u001b[49m\u001b[43m]\u001b[49m\u001b[43m,\u001b[49m\n\u001b[1;32m      7\u001b[0m \u001b[43m        \u001b[49m\u001b[43m)\u001b[49m\n",
      "\u001b[0;31mOperationalError\u001b[0m: UNIQUE constraint failed on vec_chunked_document_items primary key"
     ]
    }
   ],
   "source": [
    "# insert again\n",
    "with db:\n",
    "    for id, embedding in enumerate(chunked_embeddings):\n",
    "        db.execute(\n",
    "            \"INSERT INTO vec_chunked_document_items(id, document_name, embedding) VALUES (?, ?, ?)\",\n",
    "            [id, name, serialize_f32(embedding)],\n",
    "        )"
   ]
  },
  {
   "cell_type": "code",
   "execution_count": 12,
   "metadata": {},
   "outputs": [
    {
     "name": "stdout",
     "output_type": "stream",
     "text": [
      "Requirement already satisfied: langchain-text-splitters in /Users/edony/code/Mentis/venv/lib/python3.10/site-packages (0.3.0)\n",
      "Requirement already satisfied: sentence-transformers in /Users/edony/code/Mentis/venv/lib/python3.10/site-packages (3.4.1)\n",
      "Collecting sqlite-vss\n",
      "  Downloading sqlite_vss-0.1.2-py3-none-macosx_11_0_arm64.whl.metadata (494 bytes)\n",
      "Requirement already satisfied: langchain-core<0.4.0,>=0.3.0 in /Users/edony/code/Mentis/venv/lib/python3.10/site-packages (from langchain-text-splitters) (0.3.0)\n",
      "Requirement already satisfied: transformers<5.0.0,>=4.41.0 in /Users/edony/code/Mentis/venv/lib/python3.10/site-packages (from sentence-transformers) (4.44.2)\n",
      "Requirement already satisfied: tqdm in /Users/edony/code/Mentis/venv/lib/python3.10/site-packages (from sentence-transformers) (4.66.5)\n",
      "Requirement already satisfied: torch>=1.11.0 in /Users/edony/code/Mentis/venv/lib/python3.10/site-packages (from sentence-transformers) (2.6.0)\n",
      "Requirement already satisfied: scikit-learn in /Users/edony/code/Mentis/venv/lib/python3.10/site-packages (from sentence-transformers) (1.5.2)\n",
      "Requirement already satisfied: scipy in /Users/edony/code/Mentis/venv/lib/python3.10/site-packages (from sentence-transformers) (1.14.1)\n",
      "Requirement already satisfied: huggingface-hub>=0.20.0 in /Users/edony/code/Mentis/venv/lib/python3.10/site-packages (from sentence-transformers) (0.24.6)\n",
      "Requirement already satisfied: Pillow in /Users/edony/code/Mentis/venv/lib/python3.10/site-packages (from sentence-transformers) (10.4.0)\n",
      "Requirement already satisfied: filelock in /Users/edony/code/Mentis/venv/lib/python3.10/site-packages (from huggingface-hub>=0.20.0->sentence-transformers) (3.15.4)\n",
      "Requirement already satisfied: fsspec>=2023.5.0 in /Users/edony/code/Mentis/venv/lib/python3.10/site-packages (from huggingface-hub>=0.20.0->sentence-transformers) (2024.6.1)\n",
      "Requirement already satisfied: packaging>=20.9 in /Users/edony/code/Mentis/venv/lib/python3.10/site-packages (from huggingface-hub>=0.20.0->sentence-transformers) (24.1)\n",
      "Requirement already satisfied: pyyaml>=5.1 in /Users/edony/code/Mentis/venv/lib/python3.10/site-packages (from huggingface-hub>=0.20.0->sentence-transformers) (6.0.2)\n",
      "Requirement already satisfied: requests in /Users/edony/code/Mentis/venv/lib/python3.10/site-packages (from huggingface-hub>=0.20.0->sentence-transformers) (2.32.3)\n",
      "Requirement already satisfied: typing-extensions>=3.7.4.3 in /Users/edony/code/Mentis/venv/lib/python3.10/site-packages (from huggingface-hub>=0.20.0->sentence-transformers) (4.12.2)\n",
      "Requirement already satisfied: jsonpatch<2.0,>=1.33 in /Users/edony/code/Mentis/venv/lib/python3.10/site-packages (from langchain-core<0.4.0,>=0.3.0->langchain-text-splitters) (1.33)\n",
      "Requirement already satisfied: langsmith<0.2.0,>=0.1.117 in /Users/edony/code/Mentis/venv/lib/python3.10/site-packages (from langchain-core<0.4.0,>=0.3.0->langchain-text-splitters) (0.1.120)\n",
      "Requirement already satisfied: pydantic<3.0.0,>=2.5.2 in /Users/edony/code/Mentis/venv/lib/python3.10/site-packages (from langchain-core<0.4.0,>=0.3.0->langchain-text-splitters) (2.8.2)\n",
      "Requirement already satisfied: tenacity!=8.4.0,<9.0.0,>=8.1.0 in /Users/edony/code/Mentis/venv/lib/python3.10/site-packages (from langchain-core<0.4.0,>=0.3.0->langchain-text-splitters) (8.3.0)\n",
      "Requirement already satisfied: networkx in /Users/edony/code/Mentis/venv/lib/python3.10/site-packages (from torch>=1.11.0->sentence-transformers) (3.4.2)\n",
      "Requirement already satisfied: jinja2 in /Users/edony/code/Mentis/venv/lib/python3.10/site-packages (from torch>=1.11.0->sentence-transformers) (3.1.4)\n",
      "Requirement already satisfied: sympy==1.13.1 in /Users/edony/code/Mentis/venv/lib/python3.10/site-packages (from torch>=1.11.0->sentence-transformers) (1.13.1)\n",
      "Requirement already satisfied: mpmath<1.4,>=1.1.0 in /Users/edony/code/Mentis/venv/lib/python3.10/site-packages (from sympy==1.13.1->torch>=1.11.0->sentence-transformers) (1.3.0)\n",
      "Requirement already satisfied: numpy>=1.17 in /Users/edony/code/Mentis/venv/lib/python3.10/site-packages (from transformers<5.0.0,>=4.41.0->sentence-transformers) (1.26.4)\n",
      "Requirement already satisfied: regex!=2019.12.17 in /Users/edony/code/Mentis/venv/lib/python3.10/site-packages (from transformers<5.0.0,>=4.41.0->sentence-transformers) (2024.7.24)\n",
      "Requirement already satisfied: safetensors>=0.4.1 in /Users/edony/code/Mentis/venv/lib/python3.10/site-packages (from transformers<5.0.0,>=4.41.0->sentence-transformers) (0.4.4)\n",
      "Requirement already satisfied: tokenizers<0.20,>=0.19 in /Users/edony/code/Mentis/venv/lib/python3.10/site-packages (from transformers<5.0.0,>=4.41.0->sentence-transformers) (0.19.1)\n",
      "Requirement already satisfied: joblib>=1.2.0 in /Users/edony/code/Mentis/venv/lib/python3.10/site-packages (from scikit-learn->sentence-transformers) (1.4.2)\n",
      "Requirement already satisfied: threadpoolctl>=3.1.0 in /Users/edony/code/Mentis/venv/lib/python3.10/site-packages (from scikit-learn->sentence-transformers) (3.5.0)\n",
      "Requirement already satisfied: jsonpointer>=1.9 in /Users/edony/code/Mentis/venv/lib/python3.10/site-packages (from jsonpatch<2.0,>=1.33->langchain-core<0.4.0,>=0.3.0->langchain-text-splitters) (3.0.0)\n",
      "Requirement already satisfied: httpx<1,>=0.23.0 in /Users/edony/code/Mentis/venv/lib/python3.10/site-packages (from langsmith<0.2.0,>=0.1.117->langchain-core<0.4.0,>=0.3.0->langchain-text-splitters) (0.28.1)\n",
      "Requirement already satisfied: orjson<4.0.0,>=3.9.14 in /Users/edony/code/Mentis/venv/lib/python3.10/site-packages (from langsmith<0.2.0,>=0.1.117->langchain-core<0.4.0,>=0.3.0->langchain-text-splitters) (3.10.7)\n",
      "Requirement already satisfied: annotated-types>=0.4.0 in /Users/edony/code/Mentis/venv/lib/python3.10/site-packages (from pydantic<3.0.0,>=2.5.2->langchain-core<0.4.0,>=0.3.0->langchain-text-splitters) (0.7.0)\n",
      "Requirement already satisfied: pydantic-core==2.20.1 in /Users/edony/code/Mentis/venv/lib/python3.10/site-packages (from pydantic<3.0.0,>=2.5.2->langchain-core<0.4.0,>=0.3.0->langchain-text-splitters) (2.20.1)\n",
      "Requirement already satisfied: charset-normalizer<4,>=2 in /Users/edony/code/Mentis/venv/lib/python3.10/site-packages (from requests->huggingface-hub>=0.20.0->sentence-transformers) (3.3.2)\n",
      "Requirement already satisfied: idna<4,>=2.5 in /Users/edony/code/Mentis/venv/lib/python3.10/site-packages (from requests->huggingface-hub>=0.20.0->sentence-transformers) (3.8)\n",
      "Requirement already satisfied: urllib3<3,>=1.21.1 in /Users/edony/code/Mentis/venv/lib/python3.10/site-packages (from requests->huggingface-hub>=0.20.0->sentence-transformers) (2.2.2)\n",
      "Requirement already satisfied: certifi>=2017.4.17 in /Users/edony/code/Mentis/venv/lib/python3.10/site-packages (from requests->huggingface-hub>=0.20.0->sentence-transformers) (2024.7.4)\n",
      "Requirement already satisfied: MarkupSafe>=2.0 in /Users/edony/code/Mentis/venv/lib/python3.10/site-packages (from jinja2->torch>=1.11.0->sentence-transformers) (2.1.5)\n",
      "Requirement already satisfied: anyio in /Users/edony/code/Mentis/venv/lib/python3.10/site-packages (from httpx<1,>=0.23.0->langsmith<0.2.0,>=0.1.117->langchain-core<0.4.0,>=0.3.0->langchain-text-splitters) (4.4.0)\n",
      "Requirement already satisfied: httpcore==1.* in /Users/edony/code/Mentis/venv/lib/python3.10/site-packages (from httpx<1,>=0.23.0->langsmith<0.2.0,>=0.1.117->langchain-core<0.4.0,>=0.3.0->langchain-text-splitters) (1.0.5)\n",
      "Requirement already satisfied: h11<0.15,>=0.13 in /Users/edony/code/Mentis/venv/lib/python3.10/site-packages (from httpcore==1.*->httpx<1,>=0.23.0->langsmith<0.2.0,>=0.1.117->langchain-core<0.4.0,>=0.3.0->langchain-text-splitters) (0.14.0)\n",
      "Requirement already satisfied: sniffio>=1.1 in /Users/edony/code/Mentis/venv/lib/python3.10/site-packages (from anyio->httpx<1,>=0.23.0->langsmith<0.2.0,>=0.1.117->langchain-core<0.4.0,>=0.3.0->langchain-text-splitters) (1.3.1)\n",
      "Requirement already satisfied: exceptiongroup>=1.0.2 in /Users/edony/code/Mentis/venv/lib/python3.10/site-packages (from anyio->httpx<1,>=0.23.0->langsmith<0.2.0,>=0.1.117->langchain-core<0.4.0,>=0.3.0->langchain-text-splitters) (1.2.2)\n",
      "Downloading sqlite_vss-0.1.2-py3-none-macosx_11_0_arm64.whl (1.3 MB)\n",
      "\u001b[2K   \u001b[90m━━━━━━━━━━━━━━━━━━━━━━━━━━━━━━━━━━━━━━━━\u001b[0m \u001b[32m1.3/1.3 MB\u001b[0m \u001b[31m3.3 MB/s\u001b[0m eta \u001b[36m0:00:00\u001b[0m00:01\u001b[0m00:01\u001b[0m\n",
      "\u001b[?25hInstalling collected packages: sqlite-vss\n",
      "Successfully installed sqlite-vss-0.1.2\n",
      "\n",
      "\u001b[1m[\u001b[0m\u001b[34;49mnotice\u001b[0m\u001b[1;39;49m]\u001b[0m\u001b[39;49m A new release of pip is available: \u001b[0m\u001b[31;49m24.2\u001b[0m\u001b[39;49m -> \u001b[0m\u001b[32;49m25.0.1\u001b[0m\n",
      "\u001b[1m[\u001b[0m\u001b[34;49mnotice\u001b[0m\u001b[1;39;49m]\u001b[0m\u001b[39;49m To update, run: \u001b[0m\u001b[32;49mpip install --upgrade pip\u001b[0m\n",
      "Note: you may need to restart the kernel to use updated packages.\n"
     ]
    }
   ],
   "source": [
    "%pip install langchain-text-splitters sentence-transformers sqlite-vss"
   ]
  },
  {
   "cell_type": "code",
   "execution_count": 2,
   "metadata": {},
   "outputs": [
    {
     "name": "stdout",
     "output_type": "stream",
     "text": [
      "page_content='最近读到一篇去年泄漏的Google内部研究员的文件，要提前说明的是这份文件中的观点从现在来看是有待商榷的，但是它确实提供了另外一个观察这波 AI 浪潮的视角，让个人开发者甚至中小企业思考如何参与这一次技术革新。' metadata={'Header 1': '来自 Google 内部的另外一种声音：AI 没有护城河'}\n"
     ]
    },
    {
     "data": {
      "text/plain": [
       "'行业数据（如安全、金融、医疗）具有高度的专业性且难以获取，形成了一定的数据壁垒，高质量的数据标注需要大量的人力物力，这使得别人难以追赶。同时优秀的 AI 算法往往涉及复杂的数学模型和优化技术，需要高水平的人才，而对特定场景的模型微调需要大量的实验和经验积累，从而导致AI人才供不应求。最后AI模型训练需要大量的计算资源，需要更强大的算力基础设施。  \\n与此同时，TensorFlow、PyTorch 等开源框架降低了 AI 开发的门槛，使得技术更容易被复制。预训练模型的共享加速了模型开发，缩短了模型训练时间。 AI 领域技术更新迭代迅速，算法的领先优势可能很快被超越。云计算的发展降低了算力获取的成本，使得获得足够的算力的门槛降低。越来越严格的数据隐私法规限制了数据的获取和利用，削弱了数据壁垒。  \\n正式这样复杂的优势与局限导致：\\n- 强者恒强： 拥有雄厚资金实力的科技巨头将在AI竞争中占据主导地位。\\n- 同质化竞争加剧： 各家公司推出的AI产品同质化严重，差异化竞争不足。\\n- 硬件受限： AI硬件的核心技术被少数几家公司垄断，中小公司难以在硬件领域取得突破。'"
      ]
     },
     "execution_count": 2,
     "metadata": {},
     "output_type": "execute_result"
    }
   ],
   "source": [
    "from langchain_community.document_loaders import TextLoader\n",
    "from langchain_community.embeddings.sentence_transformer import (\n",
    "    SentenceTransformerEmbeddings,\n",
    ")\n",
    "from langchain_community.embeddings.dashscope import DashScopeEmbeddings\n",
    "from langchain_community.vectorstores import SQLiteVSS\n",
    "from langchain_text_splitters import CharacterTextSplitter, MarkdownHeaderTextSplitter\n",
    "from dotenv import load_dotenv, find_dotenv\n",
    "\n",
    "\n",
    "# init qwen model config\n",
    "_ = load_dotenv(find_dotenv(\"./env/.env\"))\n",
    "\n",
    "# load the document and split it into chunks\n",
    "loader = TextLoader(\"./来自 Google 内部的另外一种声音：AI 没有护城河.md\")\n",
    "documents = loader.load()\n",
    "with open(\"./来自 Google 内部的另外一种声音：AI 没有护城河.md\", \"r\") as f:\n",
    "    md_str = f.read()\n",
    "\n",
    "# split it into chunks\n",
    "text_splitter = CharacterTextSplitter(chunk_size=1000, chunk_overlap=0)\n",
    "headers_to_split_on = [(\"#\", \"Header 1\"), (\"##\", \"Header 2\"), (\"###\", \"Header 3\")]\n",
    "markdown_text_splitter = MarkdownHeaderTextSplitter(headers_to_split_on)\n",
    "docs = text_splitter.split_documents(documents)\n",
    "md_docs = markdown_text_splitter.split_text(md_str)\n",
    "texts = [doc.page_content for doc in docs]\n",
    "md_texts = [md_doc.page_content for md_doc in md_docs]\n",
    "print(md_docs[1])\n",
    "\n",
    "\n",
    "# create the open-source embedding function\n",
    "# embedding_function = SentenceTransformerEmbeddings(model_name=\"all-MiniLM-L6-v2\")\n",
    "embedding_function = DashScopeEmbeddings(model=\"text-embedding-v3\")\n",
    "\n",
    "\n",
    "# load it in sqlite-vss in a table named state_union.\n",
    "# the db_file parameter is the name of the file you want\n",
    "# as your sqlite database.\n",
    "db = SQLiteVSS.from_texts(\n",
    "    texts=md_texts,\n",
    "    embedding=embedding_function,\n",
    "    table=\"state_union\",\n",
    "    db_file=\"./vss.db\",\n",
    ")\n",
    "\n",
    "# query it\n",
    "query = \"AI的壁垒没有想象中的那么高\"\n",
    "data = db.similarity_search(query)\n",
    "\n",
    "# print results\n",
    "data[0].page_content"
   ]
  },
  {
   "cell_type": "code",
   "execution_count": 3,
   "metadata": {},
   "outputs": [
    {
     "name": "stdout",
     "output_type": "stream",
     "text": [
      "********************\n",
      "page_content='行业数据（如安全、金融、医疗）具有高度的专业性且难以获取，形成了一定的数据壁垒，高质量的数据标注需要大量的人力物力，这使得别人难以追赶。同时优秀的 AI 算法往往涉及复杂的数学模型和优化技术，需要高水平的人才，而对特定场景的模型微调需要大量的实验和经验积累，从而导致AI人才供不应求。最后AI模型训练需要大量的计算资源，需要更强大的算力基础设施。  \n",
      "与此同时，TensorFlow、PyTorch 等开源框架降低了 AI 开发的门槛，使得技术更容易被复制。预训练模型的共享加速了模型开发，缩短了模型训练时间。 AI 领域技术更新迭代迅速，算法的领先优势可能很快被超越。云计算的发展降低了算力获取的成本，使得获得足够的算力的门槛降低。越来越严格的数据隐私法规限制了数据的获取和利用，削弱了数据壁垒。  \n",
      "正式这样复杂的优势与局限导致：\n",
      "- 强者恒强： 拥有雄厚资金实力的科技巨头将在AI竞争中占据主导地位。\n",
      "- 同质化竞争加剧： 各家公司推出的AI产品同质化严重，差异化竞争不足。\n",
      "- 硬件受限： AI硬件的核心技术被少数几家公司垄断，中小公司难以在硬件领域取得突破。'\n",
      "********************\n",
      "page_content='尽管 Google 研究员认为 AI 行业强者恒强、同质化竞争剧烈，但仍可以从以下几个方面探讨如何建立潜在的护城河，特别是对个人和中小企业而言：\n",
      "- 数据质量： 优质、标注精细的数据是训练AI模型的关键。拥有高质量数据的公司可能具备一定优势。 专注于特定行业，积累行业知识和数据，形成深厚的技术壁垒。\n",
      "- 工程创新： 虽然核心算法是开源的，但对算法的工程优化和创新仍然是提升模型性能的重要途径。 持续投入研究，不断突破提升使用体验也可以保持领先。\n",
      "- Know-How： 将 AI 技术与特定行业深度结合，积累行业Know-How，可以形成一定的竞争壁垒。\n",
      "- 人才团队： 拥有优秀的 AI 人才团队，能够持续进行创新和研发，也是一种护城河。'\n",
      "********************\n",
      "page_content='AI 行业是一个典型的完全竞争行业，想要在 AI 领域取得领先优势，巨额的资金投入是必不可少的。算力、数据、人才是决定胜负的关键因素。对于个人、中小公司而言，想要在 AI 领域突围，难度较大。AI行业竞争激烈，护城河薄弱，资源决定成败：\n",
      "- 技术开源易获取： 生成式AI的核心技术是开源的，任何人都能获取并搭建模型，降低了技术门槛。\n",
      "- 模型易替代性强： 各家模型功能相似，差异不大，容易被替代。新功能的推出很快会被竞争对手追赶。\n",
      "- 算力和数据决定成败： 拥有更强大的算力和更丰富的训练数据是提升模型性能的关键。然而，算力和数据都依赖于经济实力，容易被模仿。\n",
      "- 人才流动性大： AI 研究人员流动性高，知识共享频繁，使得技术进步迅速。\n",
      "- 版权问题相对宽松： 欧美判例表明，在不构成直接复制的情况下，可以自由使用版权材料进行训练，降低了数据获取的难度。'\n",
      "********************\n",
      "page_content='---\n",
      "title: 来自 Google 内部的另外一种声音：AI 没有护城河\n",
      "date: 2024-08-17 18:57:43\n",
      "modify: 2024-08-17 18:59:23\n",
      "author: edony.zpc\n",
      "tags:\n",
      "aliases:\n",
      "featured: false\n",
      "published: false\n",
      "excerpt: Google内部研究报告指出，技术开源、模型易替代、算力与数据依赖经济实力等因素加剧了AI行业竞争，这导致强者恒强。然而对于个人和中小企业而言，AI行业仍存在机遇，应聚焦细分领域，避开与巨头正面竞争。 通过深入行业，积累专业知识和数据，并注重用户体验的优化在特定领域取得突破进而形成专属的「护城河」\n",
      "feature_image: \"\"\n",
      "---\n",
      "%%\n",
      "subject: #004-topics #blogging\n",
      "status: #published\n",
      "type:\n",
      "excerpt:\n",
      "related: [[AI 没有护城河]]\n",
      "%%'\n"
     ]
    }
   ],
   "source": [
    "for d in data:\n",
    "    print(\"*\"*20)\n",
    "    print(d)"
   ]
  },
  {
   "cell_type": "code",
   "execution_count": 4,
   "metadata": {},
   "outputs": [
    {
     "data": {
      "text/plain": [
       "[(Document(metadata={}, page_content='行业数据（如安全、金融、医疗）具有高度的专业性且难以获取，形成了一定的数据壁垒，高质量的数据标注需要大量的人力物力，这使得别人难以追赶。同时优秀的 AI 算法往往涉及复杂的数学模型和优化技术，需要高水平的人才，而对特定场景的模型微调需要大量的实验和经验积累，从而导致AI人才供不应求。最后AI模型训练需要大量的计算资源，需要更强大的算力基础设施。  \\n与此同时，TensorFlow、PyTorch 等开源框架降低了 AI 开发的门槛，使得技术更容易被复制。预训练模型的共享加速了模型开发，缩短了模型训练时间。 AI 领域技术更新迭代迅速，算法的领先优势可能很快被超越。云计算的发展降低了算力获取的成本，使得获得足够的算力的门槛降低。越来越严格的数据隐私法规限制了数据的获取和利用，削弱了数据壁垒。  \\n正式这样复杂的优势与局限导致：\\n- 强者恒强： 拥有雄厚资金实力的科技巨头将在AI竞争中占据主导地位。\\n- 同质化竞争加剧： 各家公司推出的AI产品同质化严重，差异化竞争不足。\\n- 硬件受限： AI硬件的核心技术被少数几家公司垄断，中小公司难以在硬件领域取得突破。'),\n",
       "  0.5443615913391113),\n",
       " (Document(metadata={}, page_content='尽管 Google 研究员认为 AI 行业强者恒强、同质化竞争剧烈，但仍可以从以下几个方面探讨如何建立潜在的护城河，特别是对个人和中小企业而言：\\n- 数据质量： 优质、标注精细的数据是训练AI模型的关键。拥有高质量数据的公司可能具备一定优势。 专注于特定行业，积累行业知识和数据，形成深厚的技术壁垒。\\n- 工程创新： 虽然核心算法是开源的，但对算法的工程优化和创新仍然是提升模型性能的重要途径。 持续投入研究，不断突破提升使用体验也可以保持领先。\\n- Know-How： 将 AI 技术与特定行业深度结合，积累行业Know-How，可以形成一定的竞争壁垒。\\n- 人才团队： 拥有优秀的 AI 人才团队，能够持续进行创新和研发，也是一种护城河。'),\n",
       "  0.6289268732070923),\n",
       " (Document(metadata={}, page_content='AI 行业是一个典型的完全竞争行业，想要在 AI 领域取得领先优势，巨额的资金投入是必不可少的。算力、数据、人才是决定胜负的关键因素。对于个人、中小公司而言，想要在 AI 领域突围，难度较大。AI行业竞争激烈，护城河薄弱，资源决定成败：\\n- 技术开源易获取： 生成式AI的核心技术是开源的，任何人都能获取并搭建模型，降低了技术门槛。\\n- 模型易替代性强： 各家模型功能相似，差异不大，容易被替代。新功能的推出很快会被竞争对手追赶。\\n- 算力和数据决定成败： 拥有更强大的算力和更丰富的训练数据是提升模型性能的关键。然而，算力和数据都依赖于经济实力，容易被模仿。\\n- 人才流动性大： AI 研究人员流动性高，知识共享频繁，使得技术进步迅速。\\n- 版权问题相对宽松： 欧美判例表明，在不构成直接复制的情况下，可以自由使用版权材料进行训练，降低了数据获取的难度。'),\n",
       "  0.6472592949867249),\n",
       " (Document(metadata={}, page_content='---\\ntitle: 来自 Google 内部的另外一种声音：AI 没有护城河\\ndate: 2024-08-17 18:57:43\\nmodify: 2024-08-17 18:59:23\\nauthor: edony.zpc\\ntags:\\naliases:\\nfeatured: false\\npublished: false\\nexcerpt: Google内部研究报告指出，技术开源、模型易替代、算力与数据依赖经济实力等因素加剧了AI行业竞争，这导致强者恒强。然而对于个人和中小企业而言，AI行业仍存在机遇，应聚焦细分领域，避开与巨头正面竞争。 通过深入行业，积累专业知识和数据，并注重用户体验的优化在特定领域取得突破进而形成专属的「护城河」\\nfeature_image: \"\"\\n---\\n%%\\nsubject: #004-topics #blogging\\nstatus: #published\\ntype:\\nexcerpt:\\nrelated: [[AI 没有护城河]]\\n%%'),\n",
       "  0.6703628301620483)]"
      ]
     },
     "execution_count": 4,
     "metadata": {},
     "output_type": "execute_result"
    }
   ],
   "source": [
    "db.similarity_search_with_score(query)"
   ]
  },
  {
   "cell_type": "code",
   "execution_count": 5,
   "metadata": {},
   "outputs": [
    {
     "name": "stdout",
     "output_type": "stream",
     "text": [
      "page_content='---\n",
      "title: 来自 Google 内部的另外一种声音：AI 没有护城河\n",
      "date: 2024-08-17 18:57:43\n",
      "modify: 2024-08-17 18:59:23\n",
      "author: edony.zpc\n",
      "tags:\n",
      "aliases:\n",
      "featured: false\n",
      "published: false\n",
      "excerpt: Google内部研究报告指出，技术开源、模型易替代、算力与数据依赖经济实力等因素加剧了AI行业竞争，这导致强者恒强。然而对于个人和中小企业而言，AI行业仍存在机遇，应聚焦细分领域，避开与巨头正面竞争。 通过深入行业，积累专业知识和数据，并注重用户体验的优化在特定领域取得突破进而形成专属的「护城河」\n",
      "feature_image: \"\"\n",
      "---\n",
      "%%\n",
      "subject: #004-topics #blogging\n",
      "status: #published\n",
      "type:\n",
      "excerpt:\n",
      "related: [[AI 没有护城河]]\n",
      "%%'\n",
      "page_content='最近读到一篇去年泄漏的Google内部研究员的文件，要提前说明的是这份文件中的观点从现在来看是有待商榷的，但是它确实提供了另外一个观察这波 AI 浪潮的视角，让个人开发者甚至中小企业思考如何参与这一次技术革新。' metadata={'Header 1': '来自 Google 内部的另外一种声音：AI 没有护城河'}\n",
      "page_content='AI 行业是一个典型的完全竞争行业，想要在 AI 领域取得领先优势，巨额的资金投入是必不可少的。算力、数据、人才是决定胜负的关键因素。对于个人、中小公司而言，想要在 AI 领域突围，难度较大。AI行业竞争激烈，护城河薄弱，资源决定成败：\n",
      "- 技术开源易获取： 生成式AI的核心技术是开源的，任何人都能获取并搭建模型，降低了技术门槛。\n",
      "- 模型易替代性强： 各家模型功能相似，差异不大，容易被替代。新功能的推出很快会被竞争对手追赶。\n",
      "- 算力和数据决定成败： 拥有更强大的算力和更丰富的训练数据是提升模型性能的关键。然而，算力和数据都依赖于经济实力，容易被模仿。\n",
      "- 人才流动性大： AI 研究人员流动性高，知识共享频繁，使得技术进步迅速。\n",
      "- 版权问题相对宽松： 欧美判例表明，在不构成直接复制的情况下，可以自由使用版权材料进行训练，降低了数据获取的难度。' metadata={'Header 1': '来自 Google 内部的另外一种声音：AI 没有护城河', 'Header 2': 'AI 行业竞争'}\n",
      "page_content='行业数据（如安全、金融、医疗）具有高度的专业性且难以获取，形成了一定的数据壁垒，高质量的数据标注需要大量的人力物力，这使得别人难以追赶。同时优秀的 AI 算法往往涉及复杂的数学模型和优化技术，需要高水平的人才，而对特定场景的模型微调需要大量的实验和经验积累，从而导致AI人才供不应求。最后AI模型训练需要大量的计算资源，需要更强大的算力基础设施。  \n",
      "与此同时，TensorFlow、PyTorch 等开源框架降低了 AI 开发的门槛，使得技术更容易被复制。预训练模型的共享加速了模型开发，缩短了模型训练时间。 AI 领域技术更新迭代迅速，算法的领先优势可能很快被超越。云计算的发展降低了算力获取的成本，使得获得足够的算力的门槛降低。越来越严格的数据隐私法规限制了数据的获取和利用，削弱了数据壁垒。  \n",
      "正式这样复杂的优势与局限导致：\n",
      "- 强者恒强： 拥有雄厚资金实力的科技巨头将在AI竞争中占据主导地位。\n",
      "- 同质化竞争加剧： 各家公司推出的AI产品同质化严重，差异化竞争不足。\n",
      "- 硬件受限： AI硬件的核心技术被少数几家公司垄断，中小公司难以在硬件领域取得突破。' metadata={'Header 1': '来自 Google 内部的另外一种声音：AI 没有护城河', 'Header 2': '优势与局限'}\n",
      "page_content='尽管 Google 研究员认为 AI 行业强者恒强、同质化竞争剧烈，但仍可以从以下几个方面探讨如何建立潜在的护城河，特别是对个人和中小企业而言：\n",
      "- 数据质量： 优质、标注精细的数据是训练AI模型的关键。拥有高质量数据的公司可能具备一定优势。 专注于特定行业，积累行业知识和数据，形成深厚的技术壁垒。\n",
      "- 工程创新： 虽然核心算法是开源的，但对算法的工程优化和创新仍然是提升模型性能的重要途径。 持续投入研究，不断突破提升使用体验也可以保持领先。\n",
      "- Know-How： 将 AI 技术与特定行业深度结合，积累行业Know-How，可以形成一定的竞争壁垒。\n",
      "- 人才团队： 拥有优秀的 AI 人才团队，能够持续进行创新和研发，也是一种护城河。' metadata={'Header 1': '来自 Google 内部的另外一种声音：AI 没有护城河', 'Header 2': '潜在的护城河'}\n",
      "page_content='从我就职的云计算公司里看到的信息，目前自上向下都认为 AI 是继移动互联技术之后又一次做大「蛋糕」的机遇，而且目前来看与前几年的元宇宙概念不同，AI 的趋势已经不可逆了，所以个人和中小企业可以聚焦细分领域来提高自己的竞争能力，避开与巨头正面竞争，选择壁垒高市场需求明确的细分领域，例如从 UX 的角度优化大家使用 AI 的方式提升准确度和效率等。  \n",
      "文末附上 Google 泄漏的原文，原汁原味的学习一手信息：\n",
      "```markdown\n",
      "## We Have No Moat And neither does OpenAI\n",
      "We’ve done a lot of looking over our shoulders at OpenAI. Who will cross the next milestone? What will the next move be?\n",
      "\n",
      "But the uncomfortable truth is, we aren’t positioned to win this arms race and neither is OpenAI. While we’ve been squabbling, a third faction has been quietly eating our lunch.\n",
      "\n",
      "I’m talking, of course, about open source. Plainly put, they are lapping us. Things we consider “major open problems” are solved and in people’s hands today. Just to name a few:\n",
      "\n",
      "- LLMs on a Phone: People are running foundation models on a Pixel 6 at 5 tokens / sec.\n",
      "- Scalable Personal AI: You can finetune a personalized AI on your laptop in an evening.\n",
      "- Responsible Release: This one isn’t “solved” so much as “obviated”. There are entire websites full of art models with no restrictions whatsoever, and text is not far behind.\n",
      "- Multimodality: The current multimodal ScienceQA SOTA was trained in an hour.\n",
      "\n",
      "While our models still hold a slight edge in terms of quality, the gap is closing astonishingly quickly. Open-source models are faster, more customizable, more private, and pound-for-pound more capable. They are doing things with $100 and 13B params that we struggle with at $10M and 540B. And they are doing so in weeks, not months. This has profound implications for us:\n",
      "\n",
      "- We have no secret sauce. Our best hope is to learn from and collaborate with what others are doing outside Google. We should prioritize enabling 3P integrations.\n",
      "- People will not pay for a restricted model when free, unrestricted alternatives are comparable in quality. We should consider where our value add really is.\n",
      "- Giant models are slowing us down. In the long run, the best models are the ones which can be iterated upon quickly. We should make small variants more than an afterthought, now that we know what is possible in the <20B parameter regime.\n",
      "\n",
      "## What Happened\n",
      "At the beginning of March the open source community got their hands on their first really capable foundation model, as Meta’s LLaMA was leaked to the public. It had no instruction or conversation tuning, and no RLHF. Nonetheless, the community immediately understood the significance of what they had been given.\n",
      "\n",
      "A tremendous outpouring of innovation followed, with just days between major developments (see The Timeline for the full breakdown). Here we are, barely a month later, and there are variants with instruction tuning, quantization, quality improvements, human evals, multimodality, RLHF, etc. etc. many of which build on each other.\n",
      "\n",
      "Most importantly, they have solved the scaling problem to the extent that anyone can tinker. Many of the new ideas are from ordinary people. The barrier to entry for training and experimentation has dropped from the total output of a major research organization to one person, an evening, and a beefy laptop.\n",
      "\n",
      "## Why We Could Have Seen It Coming\n",
      "In many ways, this shouldn’t be a surprise to anyone. The current renaissance in open source LLMs comes hot on the heels of a renaissance in image generation. The similarities are not lost on the community, with many calling this the “Stable Diffusion moment” for LLMs.\n",
      "\n",
      "In both cases, low-cost public involvement was enabled by a vastly cheaper mechanism for fine tuning called low rank adaptation, or LoRA, combined with a significant breakthrough in scale (latent diffusion for image synthesis, Chinchilla for LLMs). In both cases, access to a sufficiently high-quality model kicked off a flurry of ideas and iteration from individuals and institutions around the world. In both cases, this quickly outpaced the large players.\n",
      "\n",
      "These contributions were pivotal in the image generation space, setting Stable Diffusion on a different path from Dall-E. Having an open model led to product integrations, marketplaces, user interfaces, and innovations that didn’t happen for Dall-E.\n",
      "\n",
      "The effect was palpable: rapid domination in terms of cultural impact vs the OpenAI solution, which became increasingly irrelevant. Whether the same thing will happen for LLMs remains to be seen, but the broad structural elements are the same.\n",
      "\n",
      "## What We Missed\n",
      "The innovations that powered open source’s recent successes directly solve problems we’re still struggling with. Paying more attention to their work could help us to avoid reinventing the wheel.\n",
      "\n",
      "### LoRA is an incredibly powerful technique we should probably be paying more attention to\n",
      "LoRA works by representing model updates as low-rank factorizations, which reduces the size of the update matrices by a factor of up to several thousand. This allows model fine-tuning at a fraction of the cost and time. Being able to personalize a language model in a few hours on consumer hardware is a big deal, particularly for aspirations that involve incorporating new and diverse knowledge in near real-time. The fact that this technology exists is underexploited inside Google, even though it directly impacts some of our most ambitious projects.\n",
      "\n",
      "### Retraining models from scratch is the hard path\n",
      "Part of what makes LoRA so effective is that - like other forms of fine-tuning - it’s stackable. Improvements like instruction tuning can be applied and then leveraged as other contributors add on dialogue, or reasoning, or tool use. While the individual fine tunings are low rank, their sum need not be, allowing full-rank updates to the model to accumulate over time.\n",
      "\n",
      "This means that as new and better datasets and tasks become available, the model can be cheaply kept up to date, without ever having to pay the cost of a full run.\n",
      "\n",
      "By contrast, training giant models from scratch not only throws away the pretraining, but also any iterative improvements that have been made on top. In the open source world, it doesn’t take long before these improvements dominate, making a full retrain extremely costly.\n",
      "\n",
      "We should be thoughtful about whether each new application or idea really needs a whole new model. If we really do have major architectural improvements that preclude directly reusing model weights, then we should invest in more aggressive forms of distillation that allow us to retain as much of the previous generation’s capabilities as possible.\n",
      "\n",
      "### Large models aren’t more capable in the long run if we can iterate faster on small models\n",
      "LoRA updates are very cheap to produce (~$100) for the most popular model sizes. This means that almost anyone with an idea can generate one and distribute it. Training times under a day are the norm. At that pace, it doesn’t take long before the cumulative effect of all of these fine-tunings overcomes starting off at a size disadvantage. Indeed, in terms of engineer-hours, the pace of improvement from these models vastly outstrips what we can do with our largest variants, and the best are already largely indistinguishable from ChatGPT. Focusing on maintaining some of the largest models on the planet actually puts us at a disadvantage.\n",
      "\n",
      "### Data quality scales better than data size\n",
      "Many of these projects are saving time by training on small, highly curated datasets. This suggests there is some flexibility in data scaling laws. The existence of such datasets follows from the line of thinking in Data Doesn't Do What You Think, and they are rapidly becoming the standard way to do training outside Google. These datasets are built using synthetic methods (e.g. filtering the best responses from an existing model) and scavenging from other projects, neither of which is dominant at Google. Fortunately, these high quality datasets are open source, so they are free to use.\n",
      "\n",
      "### Directly Competing With Open Source Is a Losing Proposition\n",
      "This recent progress has direct, immediate implications for our business strategy. Who would pay for a Google product with usage restrictions if there is a free, high quality alternative without them?\n",
      "\n",
      "And we should not expect to be able to catch up. The modern internet runs on open source for a reason. Open source has some significant advantages that we cannot replicate.\n",
      "\n",
      "## We need them more than they need us\n",
      "Keeping our technology secret was always a tenuous proposition. Google researchers are leaving for other companies on a regular cadence, so we can assume they know everything we know, and will continue to for as long as that pipeline is open.\n",
      "\n",
      "But holding on to a competitive advantage in technology becomes even harder now that cutting edge research in LLMs is affordable. Research institutions all over the world are building on each other’s work, exploring the solution space in a breadth-first way that far outstrips our own capacity. We can try to hold tightly to our secrets while outside innovation dilutes their value, or we can try to learn from each other.\n",
      "\n",
      "## Individuals are not constrained by licenses to the same degree as corporations\n",
      "Much of this innovation is happening on top of the leaked model weights from Meta. While this will inevitably change as truly open models get better, the point is that they don’t have to wait. The legal cover afforded by “personal use” and the impracticality of prosecuting individuals means that individuals are getting access to these technologies while they are hot.\n",
      "\n",
      "## Being your own customer means you understand the use case\n",
      "Browsing through the models that people are creating in the image generation space, there is a vast outpouring of creativity, from anime generators to HDR landscapes. These models are used and created by people who are deeply immersed in their particular subgenre, lending a depth of knowledge and empathy we cannot hope to match.\n",
      "\n",
      "## Owning the Ecosystem: Letting Open Source Work for Us\n",
      "Paradoxically, the one clear winner in all of this is Meta. Because the leaked model was theirs, they have effectively garnered an entire planet's worth of free labor. Since most open source innovation is happening on top of their architecture, there is nothing stopping them from directly incorporating it into their products.\n",
      "\n",
      "The value of owning the ecosystem cannot be overstated. Google itself has successfully used this paradigm in its open source offerings, like Chrome and Android. By owning the platform where innovation happens, Google cements itself as a thought leader and direction-setter, earning the ability to shape the narrative on ideas that are larger than itself.\n",
      "\n",
      "The more tightly we control our models, the more attractive we make open alternatives. Google and OpenAI have both gravitated defensively toward release patterns that allow them to retain tight control over how their models are used. But this control is a fiction. Anyone seeking to use LLMs for unsanctioned purposes can simply take their pick of the freely available models.\n",
      "\n",
      "Google should establish itself a leader in the open source community, taking the lead by cooperating with, rather than ignoring, the broader conversation. This probably means taking some uncomfortable steps, like publishing the model weights for small ULM variants. This necessarily means relinquishing some control over our models. But this compromise is inevitable. We cannot hope to both drive innovation and control it.\n",
      "\n",
      "## Epilogue: What about OpenAI?\n",
      "All this talk of open source can feel unfair given OpenAI’s current closed policy. Why do we have to share, if they won’t? But the fact of the matter is, we are already sharing everything with them in the form of the steady flow of poached senior researchers. Until we stem that tide, secrecy is a moot point.\n",
      "\n",
      "And in the end, OpenAI doesn’t matter. They are making the same mistakes we are in their posture relative to open source, and their ability to maintain an edge is necessarily in question. Open source alternatives can and will eventually eclipse them unless they change their stance. In this respect, at least, we can make the first move.\n",
      "\n",
      "## The Timeline\n",
      "### Feb 24, 2023 - LLaMA is Launched\n",
      "Meta launches LLaMA, open sourcing the code, but not the weights. At this point, LLaMA is not instruction or conversation tuned. Like many current models, it is a relatively small model (available at 7B, 13B, 33B, and 65B parameters) that has been trained for a relatively large amount of time, and is therefore quite capable relative to its size.\n",
      "\n",
      "### March 3, 2023 - The Inevitable Happens\n",
      "Within a week, LLaMA is leaked to the public. The impact on the community cannot be overstated. Existing licenses prevent it from being used for commercial purposes, but suddenly anyone is able to experiment. From this point forward, innovations come hard and fast.\n",
      "\n",
      "### March 12, 2023 - Language models on a Toaster\n",
      "A little over a week later, Artem Andreenko gets the model working on a Raspberry Pi. At this point the model runs too slowly to be practical because the weights must be paged in and out of memory. Nonetheless, this sets the stage for an onslaught of minification efforts.\n",
      "\n",
      "### March 13, 2023 - Fine Tuning on a Laptop\n",
      "The next day, Stanford releases Alpaca, which adds instruction tuning to LLaMA. More important than the actual weights, however, was Eric Wang’s alpaca-lora repo, which used low rank fine-tuning to do this training “within hours on a single RTX 4090”.\n",
      "\n",
      "Suddenly, anyone could fine-tune the model to do anything, kicking off a race to the bottom on low-budget fine-tuning projects. Papers proudly describe their total spend of a few hundred dollars. What’s more, the low rank updates can be distributed easily and separately from the original weights, making them independent of the original license from Meta. Anyone can share and apply them.\n",
      "\n",
      "### March 18, 2023 - Now It’s Fast\n",
      "Georgi Gerganov uses 4 bit quantization to run LLaMA on a MacBook CPU. It is the first “no GPU” solution that is fast enough to be practical.\n",
      "\n",
      "### March 19, 2023 - A 13B model achieves “parity” with Bard\n",
      "The next day, a cross-university collaboration releases Vicuna, and uses GPT-4-powered eval to provide qualitative comparisons of model outputs. While the evaluation method is suspect, the model is materially better than earlier variants. Training Cost: $300.\n",
      "\n",
      "Notably, they were able to use data from ChatGPT while circumventing restrictions on its API - They simply sampled examples of “impressive” ChatGPT dialogue posted on sites like ShareGPT.\n",
      "\n",
      "### March 25, 2023 - Choose Your Own Model\n",
      "Nomic creates GPT4All, which is both a model and, more importantly, an ecosystem. For the first time, we see models (including Vicuna) being gathered together in one place. Training Cost: $100.\n",
      "\n",
      "### March 28, 2023 - Open Source GPT-3\n",
      "Cerebras (not to be confused with our own Cerebra) trains the GPT-3 architecture using the optimal compute schedule implied by Chinchilla, and the optimal scaling implied by μ-parameterization. This outperforms existing GPT-3 clones by a wide margin, and represents the first confirmed use of μ-parameterization “in the wild”. These models are trained from scratch, meaning the community is no longer dependent on LLaMA.\n",
      "\n",
      "### March 28, 2023 - Multimodal Training in One Hour\n",
      "Using a novel Parameter Efficient Fine Tuning (PEFT) technique, LLaMA-Adapter introduces instruction tuning and multimodality in one hour of training. Impressively, they do so with just 1.2M learnable parameters. The model achieves a new SOTA on multimodal ScienceQA.\n",
      "\n",
      "### April 3, 2023 - Real Humans Can’t Tell the Difference Between a 13B Open Model and ChatGPT\n",
      "Berkeley launches Koala, a dialogue model trained entirely using freely available data.\n",
      "\n",
      "They take the crucial step of measuring real human preferences between their model and ChatGPT. While ChatGPT still holds a slight edge, more than 50% of the time users either prefer Koala or have no preference. Training Cost: $100.\n",
      "\n",
      "### April 15, 2023 - Open Source RLHF at ChatGPT Levels\n",
      "Open Assistant launches a model and, more importantly, a dataset for Alignment via RLHF. Their model is close (48.3% vs. 51.7%) to ChatGPT in terms of human preference. In addition to LLaMA, they show that this dataset can be applied to Pythia-12B, giving people the option to use a fully open stack to run the model. Moreover, because the dataset is publicly available, it takes RLHF from unachievable to cheap and easy for small experimenters.\n",
      "```' metadata={'Header 1': '来自 Google 内部的另外一种声音：AI 没有护城河', 'Header 2': '总结与附录'}\n"
     ]
    }
   ],
   "source": [
    "for md in md_docs:\n",
    "    print(md)"
   ]
  },
  {
   "cell_type": "code",
   "execution_count": null,
   "metadata": {},
   "outputs": [],
   "source": []
  }
 ],
 "metadata": {
  "kernelspec": {
   "display_name": "venv",
   "language": "python",
   "name": "python3"
  },
  "language_info": {
   "codemirror_mode": {
    "name": "ipython",
    "version": 3
   },
   "file_extension": ".py",
   "mimetype": "text/x-python",
   "name": "python",
   "nbconvert_exporter": "python",
   "pygments_lexer": "ipython3",
   "version": "3.10.16"
  }
 },
 "nbformat": 4,
 "nbformat_minor": 2
}
